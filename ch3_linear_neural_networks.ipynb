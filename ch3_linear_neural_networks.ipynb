{
 "cells": [
  {
   "attachments": {},
   "cell_type": "markdown",
   "metadata": {},
   "source": [
    "Notes for Chapter 3: https://d2l.ai/chapter_linear-regression/index.html \n",
    "\n",
    "### 3.1. Linear regression\n",
    "\n",
    "#### 3.1.1. Basics"
   ]
  },
  {
   "attachments": {},
   "cell_type": "markdown",
   "metadata": {},
   "source": [
    "$\\hat y = w_1 x_1 + \\ldots + w_d x_d + b$\n",
    "\n",
    "$\\hat y = \\textbf w^T \\textbf x + b$\n",
    "\n",
    "w is (2,1), x is (2,1) (only one observation)\n",
    "\n",
    "It is often better to represent in matrix/vector form. \n",
    "\n",
    "$\\hat {\\textbf y} = \\textbf {X}^T\\textbf{w} + b$\n",
    "\n",
    "$\\hat {\\textbf y} \\in \\mathbb{R}^{n\\times 1}, \\mathbf X \\in \\mathbb{R}^{n\\times d}, \\textbf w \\in \\mathbb{R}^{d\\times 1}, b \\in \\mathbb{R}^{1\\times 1}$, and $n$ is the number of observations, while $d$ is the number of features"
   ]
  },
  {
   "attachments": {},
   "cell_type": "markdown",
   "metadata": {},
   "source": [
    "#### 3.1.1.2. Loss function"
   ]
  },
  {
   "attachments": {},
   "cell_type": "markdown",
   "metadata": {},
   "source": [
    "$l^{(i)}(\\textbf w, b) = \\frac{1}{2}\\left( \\hat y ^{(i)} - y^{(i)}  \\right)^2$\n",
    "\n",
    "$L(\\textbf w, b) = \\frac{1}{n} \\sum_{i=1}^n l^{(i)}(\\textbf w, b) = \\frac{1}{n} \\sum_{i=1}^n  \\frac{1}{2}\\left( \\textbf w^T \\textbf x^{(i)} + b - y^{(i)}  \\right)^2$\n",
    "\n",
    "When training the model, we seek:\n",
    "\n",
    "$\\textbf w^*, b^* = \\argmin_{\\textbf w, b} L(\\textbf w, b)$"
   ]
  },
  {
   "attachments": {},
   "cell_type": "markdown",
   "metadata": {},
   "source": [
    "#### 3.1.1.3. Analytic Solution"
   ]
  },
  {
   "attachments": {},
   "cell_type": "markdown",
   "metadata": {},
   "source": [
    "we can solve this by taking the bias into the parameter $\\textbf w$ by appending a column of ones in the design matrix $\\textbf W$. Our problem then is to minimize $||\\textbf~y~-~\\textbf{Xw}||^2$... this leads to solving: \n",
    "\n",
    "$$\\textbf w^* = (\\textbf{X}^T\\textbf{X})^{-1} \\textbf{X}^T \\textbf{y}$$"
   ]
  },
  {
   "attachments": {},
   "cell_type": "markdown",
   "metadata": {},
   "source": [
    "#### 3.1.2. Vectorization for speed"
   ]
  },
  {
   "cell_type": "code",
   "execution_count": 2,
   "metadata": {},
   "outputs": [],
   "source": [
    "# %matplotlib inline\n",
    "import math\n",
    "import time\n",
    "import numpy as np\n",
    "import tensorflow as tf\n",
    "from d2l import tensorflow as d2l\n"
   ]
  },
  {
   "attachments": {},
   "cell_type": "markdown",
   "metadata": {},
   "source": [
    "this example shows how using the vectoriz functions is significantly faster than using a loop. "
   ]
  },
  {
   "cell_type": "code",
   "execution_count": 4,
   "metadata": {},
   "outputs": [],
   "source": [
    "n = 10000\n",
    "a = tf.ones(n)\n",
    "b = tf.ones(n)"
   ]
  },
  {
   "cell_type": "code",
   "execution_count": 7,
   "metadata": {},
   "outputs": [
    {
     "data": {
      "text/plain": [
       "'9.38135 sec'"
      ]
     },
     "execution_count": 7,
     "metadata": {},
     "output_type": "execute_result"
    }
   ],
   "source": [
    "c = tf.Variable(tf.zeros(n))\n",
    "t = time.time()\n",
    "for i in range(n):\n",
    "    c[i].assign(a[i] + b[i])\n",
    "f'{time.time() - t:.5f} sec'"
   ]
  },
  {
   "cell_type": "code",
   "execution_count": 8,
   "metadata": {},
   "outputs": [
    {
     "data": {
      "text/plain": [
       "'0.00116 sec'"
      ]
     },
     "execution_count": 8,
     "metadata": {},
     "output_type": "execute_result"
    }
   ],
   "source": [
    "t = time.time()\n",
    "d = a + b\n",
    "f'{time.time() - t:.5f} sec'"
   ]
  },
  {
   "attachments": {},
   "cell_type": "markdown",
   "metadata": {},
   "source": [
    "#### 3.1.3. Normal dist with squared loss"
   ]
  },
  {
   "cell_type": "code",
   "execution_count": 9,
   "metadata": {},
   "outputs": [],
   "source": [
    "def normal(x, mu, sigma):\n",
    "    p = 1 / math.sqrt(2 * math.pi * sigma**2)\n",
    "    return p * np.exp(-0.5 * (x - mu)**2 / sigma**2)"
   ]
  },
  {
   "cell_type": "code",
   "execution_count": 10,
   "metadata": {},
   "outputs": [
    {
     "data": {
      "image/svg+xml": "<?xml version=\"1.0\" encoding=\"utf-8\" standalone=\"no\"?>\n<!DOCTYPE svg PUBLIC \"-//W3C//DTD SVG 1.1//EN\"\n  \"http://www.w3.org/Graphics/SVG/1.1/DTD/svg11.dtd\">\n<svg height=\"180.65625pt\" version=\"1.1\" viewBox=\"0 0 302.08125 180.65625\" width=\"302.08125pt\" xmlns=\"http://www.w3.org/2000/svg\" xmlns:xlink=\"http://www.w3.org/1999/xlink\">\n <metadata>\n  <rdf:RDF xmlns:cc=\"http://creativecommons.org/ns#\" xmlns:dc=\"http://purl.org/dc/elements/1.1/\" xmlns:rdf=\"http://www.w3.org/1999/02/22-rdf-syntax-ns#\">\n   <cc:Work>\n    <dc:type rdf:resource=\"http://purl.org/dc/dcmitype/StillImage\"/>\n    <dc:date>2023-01-01T19:38:46.418053</dc:date>\n    <dc:format>image/svg+xml</dc:format>\n    <dc:creator>\n     <cc:Agent>\n      <dc:title>Matplotlib v3.4.3, https://matplotlib.org/</dc:title>\n     </cc:Agent>\n    </dc:creator>\n   </cc:Work>\n  </rdf:RDF>\n </metadata>\n <defs>\n  <style type=\"text/css\">*{stroke-linecap:butt;stroke-linejoin:round;}</style>\n </defs>\n <g id=\"figure_1\">\n  <g id=\"patch_1\">\n   <path d=\"M 0 180.65625 \nL 302.08125 180.65625 \nL 302.08125 0 \nL 0 0 \nz\n\" style=\"fill:none;\"/>\n  </g>\n  <g id=\"axes_1\">\n   <g id=\"patch_2\">\n    <path d=\"M 43.78125 143.1 \nL 294.88125 143.1 \nL 294.88125 7.2 \nL 43.78125 7.2 \nz\n\" style=\"fill:#ffffff;\"/>\n   </g>\n   <g id=\"matplotlib.axis_1\">\n    <g id=\"xtick_1\">\n     <g id=\"line2d_1\">\n      <path clip-path=\"url(#pfdb494c77c)\" d=\"M 71.511736 143.1 \nL 71.511736 7.2 \n\" style=\"fill:none;stroke:#b0b0b0;stroke-linecap:square;stroke-width:0.8;\"/>\n     </g>\n     <g id=\"line2d_2\">\n      <defs>\n       <path d=\"M 0 0 \nL 0 3.5 \n\" id=\"m2a96315799\" style=\"stroke:#000000;stroke-width:0.8;\"/>\n      </defs>\n      <g>\n       <use style=\"stroke:#000000;stroke-width:0.8;\" x=\"71.511736\" xlink:href=\"#m2a96315799\" y=\"143.1\"/>\n      </g>\n     </g>\n     <g id=\"text_1\">\n      <!-- −6 -->\n      <g transform=\"translate(64.140642 157.698438)scale(0.1 -0.1)\">\n       <defs>\n        <path d=\"M 678 2272 \nL 4684 2272 \nL 4684 1741 \nL 678 1741 \nL 678 2272 \nz\n\" id=\"DejaVuSans-2212\" transform=\"scale(0.015625)\"/>\n        <path d=\"M 2113 2584 \nQ 1688 2584 1439 2293 \nQ 1191 2003 1191 1497 \nQ 1191 994 1439 701 \nQ 1688 409 2113 409 \nQ 2538 409 2786 701 \nQ 3034 994 3034 1497 \nQ 3034 2003 2786 2293 \nQ 2538 2584 2113 2584 \nz\nM 3366 4563 \nL 3366 3988 \nQ 3128 4100 2886 4159 \nQ 2644 4219 2406 4219 \nQ 1781 4219 1451 3797 \nQ 1122 3375 1075 2522 \nQ 1259 2794 1537 2939 \nQ 1816 3084 2150 3084 \nQ 2853 3084 3261 2657 \nQ 3669 2231 3669 1497 \nQ 3669 778 3244 343 \nQ 2819 -91 2113 -91 \nQ 1303 -91 875 529 \nQ 447 1150 447 2328 \nQ 447 3434 972 4092 \nQ 1497 4750 2381 4750 \nQ 2619 4750 2861 4703 \nQ 3103 4656 3366 4563 \nz\n\" id=\"DejaVuSans-36\" transform=\"scale(0.015625)\"/>\n       </defs>\n       <use xlink:href=\"#DejaVuSans-2212\"/>\n       <use x=\"83.789062\" xlink:href=\"#DejaVuSans-36\"/>\n      </g>\n     </g>\n    </g>\n    <g id=\"xtick_2\">\n     <g id=\"line2d_3\">\n      <path clip-path=\"url(#pfdb494c77c)\" d=\"M 104.145435 143.1 \nL 104.145435 7.2 \n\" style=\"fill:none;stroke:#b0b0b0;stroke-linecap:square;stroke-width:0.8;\"/>\n     </g>\n     <g id=\"line2d_4\">\n      <g>\n       <use style=\"stroke:#000000;stroke-width:0.8;\" x=\"104.145435\" xlink:href=\"#m2a96315799\" y=\"143.1\"/>\n      </g>\n     </g>\n     <g id=\"text_2\">\n      <!-- −4 -->\n      <g transform=\"translate(96.774342 157.698438)scale(0.1 -0.1)\">\n       <defs>\n        <path d=\"M 2419 4116 \nL 825 1625 \nL 2419 1625 \nL 2419 4116 \nz\nM 2253 4666 \nL 3047 4666 \nL 3047 1625 \nL 3713 1625 \nL 3713 1100 \nL 3047 1100 \nL 3047 0 \nL 2419 0 \nL 2419 1100 \nL 313 1100 \nL 313 1709 \nL 2253 4666 \nz\n\" id=\"DejaVuSans-34\" transform=\"scale(0.015625)\"/>\n       </defs>\n       <use xlink:href=\"#DejaVuSans-2212\"/>\n       <use x=\"83.789062\" xlink:href=\"#DejaVuSans-34\"/>\n      </g>\n     </g>\n    </g>\n    <g id=\"xtick_3\">\n     <g id=\"line2d_5\">\n      <path clip-path=\"url(#pfdb494c77c)\" d=\"M 136.779135 143.1 \nL 136.779135 7.2 \n\" style=\"fill:none;stroke:#b0b0b0;stroke-linecap:square;stroke-width:0.8;\"/>\n     </g>\n     <g id=\"line2d_6\">\n      <g>\n       <use style=\"stroke:#000000;stroke-width:0.8;\" x=\"136.779135\" xlink:href=\"#m2a96315799\" y=\"143.1\"/>\n      </g>\n     </g>\n     <g id=\"text_3\">\n      <!-- −2 -->\n      <g transform=\"translate(129.408041 157.698438)scale(0.1 -0.1)\">\n       <defs>\n        <path d=\"M 1228 531 \nL 3431 531 \nL 3431 0 \nL 469 0 \nL 469 531 \nQ 828 903 1448 1529 \nQ 2069 2156 2228 2338 \nQ 2531 2678 2651 2914 \nQ 2772 3150 2772 3378 \nQ 2772 3750 2511 3984 \nQ 2250 4219 1831 4219 \nQ 1534 4219 1204 4116 \nQ 875 4013 500 3803 \nL 500 4441 \nQ 881 4594 1212 4672 \nQ 1544 4750 1819 4750 \nQ 2544 4750 2975 4387 \nQ 3406 4025 3406 3419 \nQ 3406 3131 3298 2873 \nQ 3191 2616 2906 2266 \nQ 2828 2175 2409 1742 \nQ 1991 1309 1228 531 \nz\n\" id=\"DejaVuSans-32\" transform=\"scale(0.015625)\"/>\n       </defs>\n       <use xlink:href=\"#DejaVuSans-2212\"/>\n       <use x=\"83.789062\" xlink:href=\"#DejaVuSans-32\"/>\n      </g>\n     </g>\n    </g>\n    <g id=\"xtick_4\">\n     <g id=\"line2d_7\">\n      <path clip-path=\"url(#pfdb494c77c)\" d=\"M 169.412834 143.1 \nL 169.412834 7.2 \n\" style=\"fill:none;stroke:#b0b0b0;stroke-linecap:square;stroke-width:0.8;\"/>\n     </g>\n     <g id=\"line2d_8\">\n      <g>\n       <use style=\"stroke:#000000;stroke-width:0.8;\" x=\"169.412834\" xlink:href=\"#m2a96315799\" y=\"143.1\"/>\n      </g>\n     </g>\n     <g id=\"text_4\">\n      <!-- 0 -->\n      <g transform=\"translate(166.231584 157.698438)scale(0.1 -0.1)\">\n       <defs>\n        <path d=\"M 2034 4250 \nQ 1547 4250 1301 3770 \nQ 1056 3291 1056 2328 \nQ 1056 1369 1301 889 \nQ 1547 409 2034 409 \nQ 2525 409 2770 889 \nQ 3016 1369 3016 2328 \nQ 3016 3291 2770 3770 \nQ 2525 4250 2034 4250 \nz\nM 2034 4750 \nQ 2819 4750 3233 4129 \nQ 3647 3509 3647 2328 \nQ 3647 1150 3233 529 \nQ 2819 -91 2034 -91 \nQ 1250 -91 836 529 \nQ 422 1150 422 2328 \nQ 422 3509 836 4129 \nQ 1250 4750 2034 4750 \nz\n\" id=\"DejaVuSans-30\" transform=\"scale(0.015625)\"/>\n       </defs>\n       <use xlink:href=\"#DejaVuSans-30\"/>\n      </g>\n     </g>\n    </g>\n    <g id=\"xtick_5\">\n     <g id=\"line2d_9\">\n      <path clip-path=\"url(#pfdb494c77c)\" d=\"M 202.046534 143.1 \nL 202.046534 7.2 \n\" style=\"fill:none;stroke:#b0b0b0;stroke-linecap:square;stroke-width:0.8;\"/>\n     </g>\n     <g id=\"line2d_10\">\n      <g>\n       <use style=\"stroke:#000000;stroke-width:0.8;\" x=\"202.046534\" xlink:href=\"#m2a96315799\" y=\"143.1\"/>\n      </g>\n     </g>\n     <g id=\"text_5\">\n      <!-- 2 -->\n      <g transform=\"translate(198.865284 157.698438)scale(0.1 -0.1)\">\n       <use xlink:href=\"#DejaVuSans-32\"/>\n      </g>\n     </g>\n    </g>\n    <g id=\"xtick_6\">\n     <g id=\"line2d_11\">\n      <path clip-path=\"url(#pfdb494c77c)\" d=\"M 234.680233 143.1 \nL 234.680233 7.2 \n\" style=\"fill:none;stroke:#b0b0b0;stroke-linecap:square;stroke-width:0.8;\"/>\n     </g>\n     <g id=\"line2d_12\">\n      <g>\n       <use style=\"stroke:#000000;stroke-width:0.8;\" x=\"234.680233\" xlink:href=\"#m2a96315799\" y=\"143.1\"/>\n      </g>\n     </g>\n     <g id=\"text_6\">\n      <!-- 4 -->\n      <g transform=\"translate(231.498983 157.698438)scale(0.1 -0.1)\">\n       <use xlink:href=\"#DejaVuSans-34\"/>\n      </g>\n     </g>\n    </g>\n    <g id=\"xtick_7\">\n     <g id=\"line2d_13\">\n      <path clip-path=\"url(#pfdb494c77c)\" d=\"M 267.313932 143.1 \nL 267.313932 7.2 \n\" style=\"fill:none;stroke:#b0b0b0;stroke-linecap:square;stroke-width:0.8;\"/>\n     </g>\n     <g id=\"line2d_14\">\n      <g>\n       <use style=\"stroke:#000000;stroke-width:0.8;\" x=\"267.313932\" xlink:href=\"#m2a96315799\" y=\"143.1\"/>\n      </g>\n     </g>\n     <g id=\"text_7\">\n      <!-- 6 -->\n      <g transform=\"translate(264.132682 157.698438)scale(0.1 -0.1)\">\n       <use xlink:href=\"#DejaVuSans-36\"/>\n      </g>\n     </g>\n    </g>\n    <g id=\"text_8\">\n     <!-- x -->\n     <g transform=\"translate(166.371875 171.376563)scale(0.1 -0.1)\">\n      <defs>\n       <path d=\"M 3513 3500 \nL 2247 1797 \nL 3578 0 \nL 2900 0 \nL 1881 1375 \nL 863 0 \nL 184 0 \nL 1544 1831 \nL 300 3500 \nL 978 3500 \nL 1906 2253 \nL 2834 3500 \nL 3513 3500 \nz\n\" id=\"DejaVuSans-78\" transform=\"scale(0.015625)\"/>\n      </defs>\n      <use xlink:href=\"#DejaVuSans-78\"/>\n     </g>\n    </g>\n   </g>\n   <g id=\"matplotlib.axis_2\">\n    <g id=\"ytick_1\">\n     <g id=\"line2d_15\">\n      <path clip-path=\"url(#pfdb494c77c)\" d=\"M 43.78125 136.922727 \nL 294.88125 136.922727 \n\" style=\"fill:none;stroke:#b0b0b0;stroke-linecap:square;stroke-width:0.8;\"/>\n     </g>\n     <g id=\"line2d_16\">\n      <defs>\n       <path d=\"M 0 0 \nL -3.5 0 \n\" id=\"m3996e69d45\" style=\"stroke:#000000;stroke-width:0.8;\"/>\n      </defs>\n      <g>\n       <use style=\"stroke:#000000;stroke-width:0.8;\" x=\"43.78125\" xlink:href=\"#m3996e69d45\" y=\"136.922727\"/>\n      </g>\n     </g>\n     <g id=\"text_9\">\n      <!-- 0.0 -->\n      <g transform=\"translate(20.878125 140.721946)scale(0.1 -0.1)\">\n       <defs>\n        <path d=\"M 684 794 \nL 1344 794 \nL 1344 0 \nL 684 0 \nL 684 794 \nz\n\" id=\"DejaVuSans-2e\" transform=\"scale(0.015625)\"/>\n       </defs>\n       <use xlink:href=\"#DejaVuSans-30\"/>\n       <use x=\"63.623047\" xlink:href=\"#DejaVuSans-2e\"/>\n       <use x=\"95.410156\" xlink:href=\"#DejaVuSans-30\"/>\n      </g>\n     </g>\n    </g>\n    <g id=\"ytick_2\">\n     <g id=\"line2d_17\">\n      <path clip-path=\"url(#pfdb494c77c)\" d=\"M 43.78125 105.954474 \nL 294.88125 105.954474 \n\" style=\"fill:none;stroke:#b0b0b0;stroke-linecap:square;stroke-width:0.8;\"/>\n     </g>\n     <g id=\"line2d_18\">\n      <g>\n       <use style=\"stroke:#000000;stroke-width:0.8;\" x=\"43.78125\" xlink:href=\"#m3996e69d45\" y=\"105.954474\"/>\n      </g>\n     </g>\n     <g id=\"text_10\">\n      <!-- 0.1 -->\n      <g transform=\"translate(20.878125 109.753693)scale(0.1 -0.1)\">\n       <defs>\n        <path d=\"M 794 531 \nL 1825 531 \nL 1825 4091 \nL 703 3866 \nL 703 4441 \nL 1819 4666 \nL 2450 4666 \nL 2450 531 \nL 3481 531 \nL 3481 0 \nL 794 0 \nL 794 531 \nz\n\" id=\"DejaVuSans-31\" transform=\"scale(0.015625)\"/>\n       </defs>\n       <use xlink:href=\"#DejaVuSans-30\"/>\n       <use x=\"63.623047\" xlink:href=\"#DejaVuSans-2e\"/>\n       <use x=\"95.410156\" xlink:href=\"#DejaVuSans-31\"/>\n      </g>\n     </g>\n    </g>\n    <g id=\"ytick_3\">\n     <g id=\"line2d_19\">\n      <path clip-path=\"url(#pfdb494c77c)\" d=\"M 43.78125 74.986221 \nL 294.88125 74.986221 \n\" style=\"fill:none;stroke:#b0b0b0;stroke-linecap:square;stroke-width:0.8;\"/>\n     </g>\n     <g id=\"line2d_20\">\n      <g>\n       <use style=\"stroke:#000000;stroke-width:0.8;\" x=\"43.78125\" xlink:href=\"#m3996e69d45\" y=\"74.986221\"/>\n      </g>\n     </g>\n     <g id=\"text_11\">\n      <!-- 0.2 -->\n      <g transform=\"translate(20.878125 78.78544)scale(0.1 -0.1)\">\n       <use xlink:href=\"#DejaVuSans-30\"/>\n       <use x=\"63.623047\" xlink:href=\"#DejaVuSans-2e\"/>\n       <use x=\"95.410156\" xlink:href=\"#DejaVuSans-32\"/>\n      </g>\n     </g>\n    </g>\n    <g id=\"ytick_4\">\n     <g id=\"line2d_21\">\n      <path clip-path=\"url(#pfdb494c77c)\" d=\"M 43.78125 44.017968 \nL 294.88125 44.017968 \n\" style=\"fill:none;stroke:#b0b0b0;stroke-linecap:square;stroke-width:0.8;\"/>\n     </g>\n     <g id=\"line2d_22\">\n      <g>\n       <use style=\"stroke:#000000;stroke-width:0.8;\" x=\"43.78125\" xlink:href=\"#m3996e69d45\" y=\"44.017968\"/>\n      </g>\n     </g>\n     <g id=\"text_12\">\n      <!-- 0.3 -->\n      <g transform=\"translate(20.878125 47.817187)scale(0.1 -0.1)\">\n       <defs>\n        <path d=\"M 2597 2516 \nQ 3050 2419 3304 2112 \nQ 3559 1806 3559 1356 \nQ 3559 666 3084 287 \nQ 2609 -91 1734 -91 \nQ 1441 -91 1130 -33 \nQ 819 25 488 141 \nL 488 750 \nQ 750 597 1062 519 \nQ 1375 441 1716 441 \nQ 2309 441 2620 675 \nQ 2931 909 2931 1356 \nQ 2931 1769 2642 2001 \nQ 2353 2234 1838 2234 \nL 1294 2234 \nL 1294 2753 \nL 1863 2753 \nQ 2328 2753 2575 2939 \nQ 2822 3125 2822 3475 \nQ 2822 3834 2567 4026 \nQ 2313 4219 1838 4219 \nQ 1578 4219 1281 4162 \nQ 984 4106 628 3988 \nL 628 4550 \nQ 988 4650 1302 4700 \nQ 1616 4750 1894 4750 \nQ 2613 4750 3031 4423 \nQ 3450 4097 3450 3541 \nQ 3450 3153 3228 2886 \nQ 3006 2619 2597 2516 \nz\n\" id=\"DejaVuSans-33\" transform=\"scale(0.015625)\"/>\n       </defs>\n       <use xlink:href=\"#DejaVuSans-30\"/>\n       <use x=\"63.623047\" xlink:href=\"#DejaVuSans-2e\"/>\n       <use x=\"95.410156\" xlink:href=\"#DejaVuSans-33\"/>\n      </g>\n     </g>\n    </g>\n    <g id=\"ytick_5\">\n     <g id=\"line2d_23\">\n      <path clip-path=\"url(#pfdb494c77c)\" d=\"M 43.78125 13.049715 \nL 294.88125 13.049715 \n\" style=\"fill:none;stroke:#b0b0b0;stroke-linecap:square;stroke-width:0.8;\"/>\n     </g>\n     <g id=\"line2d_24\">\n      <g>\n       <use style=\"stroke:#000000;stroke-width:0.8;\" x=\"43.78125\" xlink:href=\"#m3996e69d45\" y=\"13.049715\"/>\n      </g>\n     </g>\n     <g id=\"text_13\">\n      <!-- 0.4 -->\n      <g transform=\"translate(20.878125 16.848934)scale(0.1 -0.1)\">\n       <use xlink:href=\"#DejaVuSans-30\"/>\n       <use x=\"63.623047\" xlink:href=\"#DejaVuSans-2e\"/>\n       <use x=\"95.410156\" xlink:href=\"#DejaVuSans-34\"/>\n      </g>\n     </g>\n    </g>\n    <g id=\"text_14\">\n     <!-- p(x) -->\n     <g transform=\"translate(14.798438 85.185156)rotate(-90)scale(0.1 -0.1)\">\n      <defs>\n       <path d=\"M 1159 525 \nL 1159 -1331 \nL 581 -1331 \nL 581 3500 \nL 1159 3500 \nL 1159 2969 \nQ 1341 3281 1617 3432 \nQ 1894 3584 2278 3584 \nQ 2916 3584 3314 3078 \nQ 3713 2572 3713 1747 \nQ 3713 922 3314 415 \nQ 2916 -91 2278 -91 \nQ 1894 -91 1617 61 \nQ 1341 213 1159 525 \nz\nM 3116 1747 \nQ 3116 2381 2855 2742 \nQ 2594 3103 2138 3103 \nQ 1681 3103 1420 2742 \nQ 1159 2381 1159 1747 \nQ 1159 1113 1420 752 \nQ 1681 391 2138 391 \nQ 2594 391 2855 752 \nQ 3116 1113 3116 1747 \nz\n\" id=\"DejaVuSans-70\" transform=\"scale(0.015625)\"/>\n       <path d=\"M 1984 4856 \nQ 1566 4138 1362 3434 \nQ 1159 2731 1159 2009 \nQ 1159 1288 1364 580 \nQ 1569 -128 1984 -844 \nL 1484 -844 \nQ 1016 -109 783 600 \nQ 550 1309 550 2009 \nQ 550 2706 781 3412 \nQ 1013 4119 1484 4856 \nL 1984 4856 \nz\n\" id=\"DejaVuSans-28\" transform=\"scale(0.015625)\"/>\n       <path d=\"M 513 4856 \nL 1013 4856 \nQ 1481 4119 1714 3412 \nQ 1947 2706 1947 2009 \nQ 1947 1309 1714 600 \nQ 1481 -109 1013 -844 \nL 513 -844 \nQ 928 -128 1133 580 \nQ 1338 1288 1338 2009 \nQ 1338 2731 1133 3434 \nQ 928 4138 513 4856 \nz\n\" id=\"DejaVuSans-29\" transform=\"scale(0.015625)\"/>\n      </defs>\n      <use xlink:href=\"#DejaVuSans-70\"/>\n      <use x=\"63.476562\" xlink:href=\"#DejaVuSans-28\"/>\n      <use x=\"102.490234\" xlink:href=\"#DejaVuSans-78\"/>\n      <use x=\"161.669922\" xlink:href=\"#DejaVuSans-29\"/>\n     </g>\n    </g>\n   </g>\n   <g id=\"line2d_25\">\n    <path clip-path=\"url(#pfdb494c77c)\" d=\"M 55.194886 136.922727 \nL 108.224648 136.813535 \nL 113.609208 136.566288 \nL 117.198915 136.184417 \nL 119.97278 135.668952 \nL 122.257139 135.025186 \nL 124.215161 134.257847 \nL 126.010014 133.330368 \nL 127.804868 132.138334 \nL 129.436552 130.779445 \nL 131.068237 129.113085 \nL 132.699922 127.093512 \nL 134.331607 124.67477 \nL 135.963292 121.812692 \nL 137.594977 118.467288 \nL 139.226662 114.605495 \nL 141.021516 109.733818 \nL 142.816369 104.197078 \nL 144.774391 97.412516 \nL 146.895582 89.247632 \nL 149.506278 78.224523 \nL 153.259153 61.239305 \nL 157.501534 42.275258 \nL 159.785893 33.113056 \nL 161.580746 26.820515 \nL 163.049263 22.424523 \nL 164.354611 19.173268 \nL 165.49679 16.884633 \nL 166.475801 15.362585 \nL 167.454812 14.263605 \nL 168.270655 13.679589 \nL 169.086497 13.401979 \nL 169.739171 13.401979 \nL 170.391845 13.599455 \nL 171.207688 14.122466 \nL 172.02353 14.948577 \nL 173.002541 16.331186 \nL 173.981552 18.12656 \nL 175.123732 20.717347 \nL 176.42908 24.286979 \nL 177.897596 29.000684 \nL 179.69245 35.615359 \nL 181.81364 44.367165 \nL 184.913841 58.245076 \nL 190.46157 83.161144 \nL 192.909098 93.115047 \nL 195.030288 100.899673 \nL 196.98831 107.299489 \nL 198.783164 112.473243 \nL 200.578017 116.986089 \nL 202.209702 120.534567 \nL 203.841387 123.5855 \nL 205.473072 126.176453 \nL 207.104757 128.35023 \nL 208.736442 130.152334 \nL 210.368127 131.628806 \nL 211.999812 132.824481 \nL 213.794665 133.865803 \nL 215.752687 134.73293 \nL 217.873878 135.421686 \nL 220.321405 135.97206 \nL 223.258438 136.389278 \nL 227.011314 136.67952 \nL 232.395874 136.850878 \nL 243.001826 136.917995 \nL 283.467614 136.922727 \nL 283.467614 136.922727 \n\" style=\"fill:none;stroke:#1f77b4;stroke-linecap:square;stroke-width:1.5;\"/>\n   </g>\n   <g id=\"line2d_26\">\n    <path clip-path=\"url(#pfdb494c77c)\" d=\"M 55.194886 136.7876 \nL 65.800839 136.522951 \nL 73.143421 136.126434 \nL 79.017487 135.590287 \nL 83.912542 134.926494 \nL 88.318091 134.105229 \nL 92.234135 133.153577 \nL 95.823842 132.06316 \nL 99.250381 130.798749 \nL 102.51375 129.367709 \nL 105.77712 127.695008 \nL 109.04049 125.764111 \nL 112.30386 123.563438 \nL 115.56723 121.087897 \nL 118.993769 118.196043 \nL 122.583476 114.860886 \nL 126.49952 110.903144 \nL 131.068237 105.948686 \nL 138.247651 97.770807 \nL 144.611223 90.644946 \nL 148.527267 86.589675 \nL 151.790637 83.530672 \nL 154.564501 81.224436 \nL 157.175197 79.344214 \nL 159.459556 77.957408 \nL 161.743915 76.832365 \nL 163.865105 76.036198 \nL 165.823127 75.522597 \nL 167.781149 75.227168 \nL 169.739171 75.153089 \nL 171.697193 75.301158 \nL 173.655215 75.66978 \nL 175.613237 76.254995 \nL 177.734428 77.126088 \nL 179.855618 78.233161 \nL 182.139977 79.673625 \nL 184.587504 81.48006 \nL 187.361369 83.820867 \nL 190.46157 86.751111 \nL 194.051277 90.469337 \nL 198.783164 95.721751 \nL 211.673475 110.215093 \nL 215.752687 114.383393 \nL 219.505563 117.90542 \nL 222.932101 120.82526 \nL 226.195471 123.328273 \nL 229.458841 125.556324 \nL 232.722211 127.513772 \nL 235.985581 129.211619 \nL 239.248951 130.665971 \nL 242.675489 131.95258 \nL 246.265196 133.063568 \nL 250.18124 134.034481 \nL 254.423621 134.846714 \nL 259.155508 135.514669 \nL 264.540068 136.040363 \nL 270.903639 136.432354 \nL 279.225233 136.707949 \nL 283.467614 136.785216 \nL 283.467614 136.785216 \n\" style=\"fill:none;stroke:#bf00bf;stroke-dasharray:5.55,2.4;stroke-dashoffset:0;stroke-width:1.5;\"/>\n   </g>\n   <g id=\"line2d_27\">\n    <path clip-path=\"url(#pfdb494c77c)\" d=\"M 55.194886 136.922727 \nL 157.175197 136.813535 \nL 162.559757 136.566288 \nL 166.149464 136.184417 \nL 168.923329 135.668952 \nL 171.207688 135.025186 \nL 173.16571 134.257847 \nL 174.960563 133.330368 \nL 176.755417 132.138334 \nL 178.387102 130.779445 \nL 180.018787 129.113085 \nL 181.650472 127.093512 \nL 183.282156 124.67477 \nL 184.913841 121.812692 \nL 186.545526 118.467288 \nL 188.177211 114.605495 \nL 189.972065 109.733818 \nL 191.766918 104.197078 \nL 193.72494 97.412516 \nL 195.846131 89.247632 \nL 198.456827 78.224523 \nL 202.209702 61.239305 \nL 206.452083 42.275258 \nL 208.736442 33.113056 \nL 210.531295 26.820515 \nL 211.999812 22.424523 \nL 213.30516 19.173268 \nL 214.447339 16.884633 \nL 215.42635 15.362585 \nL 216.405361 14.263605 \nL 217.221204 13.679589 \nL 218.037046 13.401979 \nL 218.68972 13.401979 \nL 219.342394 13.599455 \nL 220.158237 14.122466 \nL 220.974079 14.948577 \nL 221.95309 16.331186 \nL 222.932101 18.12656 \nL 224.074281 20.717347 \nL 225.379629 24.286979 \nL 226.848145 29.000684 \nL 228.642999 35.615359 \nL 230.764189 44.367165 \nL 233.864391 58.245076 \nL 239.412119 83.161144 \nL 241.859647 93.115047 \nL 243.980837 100.899673 \nL 245.938859 107.299489 \nL 247.733713 112.473243 \nL 249.528566 116.986089 \nL 251.160251 120.534567 \nL 252.791936 123.5855 \nL 254.423621 126.176453 \nL 256.055306 128.35023 \nL 257.686991 130.152334 \nL 259.318676 131.628806 \nL 260.950361 132.824481 \nL 262.745215 133.865803 \nL 264.703236 134.73293 \nL 266.824427 135.421686 \nL 269.271954 135.97206 \nL 272.208987 136.389278 \nL 275.961863 136.67952 \nL 281.346423 136.850878 \nL 283.467614 136.879593 \nL 283.467614 136.879593 \n\" style=\"fill:none;stroke:#008000;stroke-dasharray:9.6,2.4,1.5,2.4;stroke-dashoffset:0;stroke-width:1.5;\"/>\n   </g>\n   <g id=\"patch_3\">\n    <path d=\"M 43.78125 143.1 \nL 43.78125 7.2 \n\" style=\"fill:none;stroke:#000000;stroke-linecap:square;stroke-linejoin:miter;stroke-width:0.8;\"/>\n   </g>\n   <g id=\"patch_4\">\n    <path d=\"M 294.88125 143.1 \nL 294.88125 7.2 \n\" style=\"fill:none;stroke:#000000;stroke-linecap:square;stroke-linejoin:miter;stroke-width:0.8;\"/>\n   </g>\n   <g id=\"patch_5\">\n    <path d=\"M 43.78125 143.1 \nL 294.88125 143.1 \n\" style=\"fill:none;stroke:#000000;stroke-linecap:square;stroke-linejoin:miter;stroke-width:0.8;\"/>\n   </g>\n   <g id=\"patch_6\">\n    <path d=\"M 43.78125 7.2 \nL 294.88125 7.2 \n\" style=\"fill:none;stroke:#000000;stroke-linecap:square;stroke-linejoin:miter;stroke-width:0.8;\"/>\n   </g>\n   <g id=\"legend_1\">\n    <g id=\"patch_7\">\n     <path d=\"M 50.78125 59.234375 \nL 152.05625 59.234375 \nQ 154.05625 59.234375 154.05625 57.234375 \nL 154.05625 14.2 \nQ 154.05625 12.2 152.05625 12.2 \nL 50.78125 12.2 \nQ 48.78125 12.2 48.78125 14.2 \nL 48.78125 57.234375 \nQ 48.78125 59.234375 50.78125 59.234375 \nz\n\" style=\"fill:#ffffff;opacity:0.8;stroke:#cccccc;stroke-linejoin:miter;\"/>\n    </g>\n    <g id=\"line2d_28\">\n     <path d=\"M 52.78125 20.298438 \nL 72.78125 20.298438 \n\" style=\"fill:none;stroke:#1f77b4;stroke-linecap:square;stroke-width:1.5;\"/>\n    </g>\n    <g id=\"line2d_29\"/>\n    <g id=\"text_15\">\n     <!-- mean 0, std 1 -->\n     <g transform=\"translate(80.78125 23.798438)scale(0.1 -0.1)\">\n      <defs>\n       <path d=\"M 3328 2828 \nQ 3544 3216 3844 3400 \nQ 4144 3584 4550 3584 \nQ 5097 3584 5394 3201 \nQ 5691 2819 5691 2113 \nL 5691 0 \nL 5113 0 \nL 5113 2094 \nQ 5113 2597 4934 2840 \nQ 4756 3084 4391 3084 \nQ 3944 3084 3684 2787 \nQ 3425 2491 3425 1978 \nL 3425 0 \nL 2847 0 \nL 2847 2094 \nQ 2847 2600 2669 2842 \nQ 2491 3084 2119 3084 \nQ 1678 3084 1418 2786 \nQ 1159 2488 1159 1978 \nL 1159 0 \nL 581 0 \nL 581 3500 \nL 1159 3500 \nL 1159 2956 \nQ 1356 3278 1631 3431 \nQ 1906 3584 2284 3584 \nQ 2666 3584 2933 3390 \nQ 3200 3197 3328 2828 \nz\n\" id=\"DejaVuSans-6d\" transform=\"scale(0.015625)\"/>\n       <path d=\"M 3597 1894 \nL 3597 1613 \nL 953 1613 \nQ 991 1019 1311 708 \nQ 1631 397 2203 397 \nQ 2534 397 2845 478 \nQ 3156 559 3463 722 \nL 3463 178 \nQ 3153 47 2828 -22 \nQ 2503 -91 2169 -91 \nQ 1331 -91 842 396 \nQ 353 884 353 1716 \nQ 353 2575 817 3079 \nQ 1281 3584 2069 3584 \nQ 2775 3584 3186 3129 \nQ 3597 2675 3597 1894 \nz\nM 3022 2063 \nQ 3016 2534 2758 2815 \nQ 2500 3097 2075 3097 \nQ 1594 3097 1305 2825 \nQ 1016 2553 972 2059 \nL 3022 2063 \nz\n\" id=\"DejaVuSans-65\" transform=\"scale(0.015625)\"/>\n       <path d=\"M 2194 1759 \nQ 1497 1759 1228 1600 \nQ 959 1441 959 1056 \nQ 959 750 1161 570 \nQ 1363 391 1709 391 \nQ 2188 391 2477 730 \nQ 2766 1069 2766 1631 \nL 2766 1759 \nL 2194 1759 \nz\nM 3341 1997 \nL 3341 0 \nL 2766 0 \nL 2766 531 \nQ 2569 213 2275 61 \nQ 1981 -91 1556 -91 \nQ 1019 -91 701 211 \nQ 384 513 384 1019 \nQ 384 1609 779 1909 \nQ 1175 2209 1959 2209 \nL 2766 2209 \nL 2766 2266 \nQ 2766 2663 2505 2880 \nQ 2244 3097 1772 3097 \nQ 1472 3097 1187 3025 \nQ 903 2953 641 2809 \nL 641 3341 \nQ 956 3463 1253 3523 \nQ 1550 3584 1831 3584 \nQ 2591 3584 2966 3190 \nQ 3341 2797 3341 1997 \nz\n\" id=\"DejaVuSans-61\" transform=\"scale(0.015625)\"/>\n       <path d=\"M 3513 2113 \nL 3513 0 \nL 2938 0 \nL 2938 2094 \nQ 2938 2591 2744 2837 \nQ 2550 3084 2163 3084 \nQ 1697 3084 1428 2787 \nQ 1159 2491 1159 1978 \nL 1159 0 \nL 581 0 \nL 581 3500 \nL 1159 3500 \nL 1159 2956 \nQ 1366 3272 1645 3428 \nQ 1925 3584 2291 3584 \nQ 2894 3584 3203 3211 \nQ 3513 2838 3513 2113 \nz\n\" id=\"DejaVuSans-6e\" transform=\"scale(0.015625)\"/>\n       <path id=\"DejaVuSans-20\" transform=\"scale(0.015625)\"/>\n       <path d=\"M 750 794 \nL 1409 794 \nL 1409 256 \nL 897 -744 \nL 494 -744 \nL 750 256 \nL 750 794 \nz\n\" id=\"DejaVuSans-2c\" transform=\"scale(0.015625)\"/>\n       <path d=\"M 2834 3397 \nL 2834 2853 \nQ 2591 2978 2328 3040 \nQ 2066 3103 1784 3103 \nQ 1356 3103 1142 2972 \nQ 928 2841 928 2578 \nQ 928 2378 1081 2264 \nQ 1234 2150 1697 2047 \nL 1894 2003 \nQ 2506 1872 2764 1633 \nQ 3022 1394 3022 966 \nQ 3022 478 2636 193 \nQ 2250 -91 1575 -91 \nQ 1294 -91 989 -36 \nQ 684 19 347 128 \nL 347 722 \nQ 666 556 975 473 \nQ 1284 391 1588 391 \nQ 1994 391 2212 530 \nQ 2431 669 2431 922 \nQ 2431 1156 2273 1281 \nQ 2116 1406 1581 1522 \nL 1381 1569 \nQ 847 1681 609 1914 \nQ 372 2147 372 2553 \nQ 372 3047 722 3315 \nQ 1072 3584 1716 3584 \nQ 2034 3584 2315 3537 \nQ 2597 3491 2834 3397 \nz\n\" id=\"DejaVuSans-73\" transform=\"scale(0.015625)\"/>\n       <path d=\"M 1172 4494 \nL 1172 3500 \nL 2356 3500 \nL 2356 3053 \nL 1172 3053 \nL 1172 1153 \nQ 1172 725 1289 603 \nQ 1406 481 1766 481 \nL 2356 481 \nL 2356 0 \nL 1766 0 \nQ 1100 0 847 248 \nQ 594 497 594 1153 \nL 594 3053 \nL 172 3053 \nL 172 3500 \nL 594 3500 \nL 594 4494 \nL 1172 4494 \nz\n\" id=\"DejaVuSans-74\" transform=\"scale(0.015625)\"/>\n       <path d=\"M 2906 2969 \nL 2906 4863 \nL 3481 4863 \nL 3481 0 \nL 2906 0 \nL 2906 525 \nQ 2725 213 2448 61 \nQ 2172 -91 1784 -91 \nQ 1150 -91 751 415 \nQ 353 922 353 1747 \nQ 353 2572 751 3078 \nQ 1150 3584 1784 3584 \nQ 2172 3584 2448 3432 \nQ 2725 3281 2906 2969 \nz\nM 947 1747 \nQ 947 1113 1208 752 \nQ 1469 391 1925 391 \nQ 2381 391 2643 752 \nQ 2906 1113 2906 1747 \nQ 2906 2381 2643 2742 \nQ 2381 3103 1925 3103 \nQ 1469 3103 1208 2742 \nQ 947 2381 947 1747 \nz\n\" id=\"DejaVuSans-64\" transform=\"scale(0.015625)\"/>\n      </defs>\n      <use xlink:href=\"#DejaVuSans-6d\"/>\n      <use x=\"97.412109\" xlink:href=\"#DejaVuSans-65\"/>\n      <use x=\"158.935547\" xlink:href=\"#DejaVuSans-61\"/>\n      <use x=\"220.214844\" xlink:href=\"#DejaVuSans-6e\"/>\n      <use x=\"283.59375\" xlink:href=\"#DejaVuSans-20\"/>\n      <use x=\"315.380859\" xlink:href=\"#DejaVuSans-30\"/>\n      <use x=\"379.003906\" xlink:href=\"#DejaVuSans-2c\"/>\n      <use x=\"410.791016\" xlink:href=\"#DejaVuSans-20\"/>\n      <use x=\"442.578125\" xlink:href=\"#DejaVuSans-73\"/>\n      <use x=\"494.677734\" xlink:href=\"#DejaVuSans-74\"/>\n      <use x=\"533.886719\" xlink:href=\"#DejaVuSans-64\"/>\n      <use x=\"597.363281\" xlink:href=\"#DejaVuSans-20\"/>\n      <use x=\"629.150391\" xlink:href=\"#DejaVuSans-31\"/>\n     </g>\n    </g>\n    <g id=\"line2d_30\">\n     <path d=\"M 52.78125 34.976562 \nL 72.78125 34.976562 \n\" style=\"fill:none;stroke:#bf00bf;stroke-dasharray:5.55,2.4;stroke-dashoffset:0;stroke-width:1.5;\"/>\n    </g>\n    <g id=\"line2d_31\"/>\n    <g id=\"text_16\">\n     <!-- mean 0, std 2 -->\n     <g transform=\"translate(80.78125 38.476562)scale(0.1 -0.1)\">\n      <use xlink:href=\"#DejaVuSans-6d\"/>\n      <use x=\"97.412109\" xlink:href=\"#DejaVuSans-65\"/>\n      <use x=\"158.935547\" xlink:href=\"#DejaVuSans-61\"/>\n      <use x=\"220.214844\" xlink:href=\"#DejaVuSans-6e\"/>\n      <use x=\"283.59375\" xlink:href=\"#DejaVuSans-20\"/>\n      <use x=\"315.380859\" xlink:href=\"#DejaVuSans-30\"/>\n      <use x=\"379.003906\" xlink:href=\"#DejaVuSans-2c\"/>\n      <use x=\"410.791016\" xlink:href=\"#DejaVuSans-20\"/>\n      <use x=\"442.578125\" xlink:href=\"#DejaVuSans-73\"/>\n      <use x=\"494.677734\" xlink:href=\"#DejaVuSans-74\"/>\n      <use x=\"533.886719\" xlink:href=\"#DejaVuSans-64\"/>\n      <use x=\"597.363281\" xlink:href=\"#DejaVuSans-20\"/>\n      <use x=\"629.150391\" xlink:href=\"#DejaVuSans-32\"/>\n     </g>\n    </g>\n    <g id=\"line2d_32\">\n     <path d=\"M 52.78125 49.654688 \nL 72.78125 49.654688 \n\" style=\"fill:none;stroke:#008000;stroke-dasharray:9.6,2.4,1.5,2.4;stroke-dashoffset:0;stroke-width:1.5;\"/>\n    </g>\n    <g id=\"line2d_33\"/>\n    <g id=\"text_17\">\n     <!-- mean 3, std 1 -->\n     <g transform=\"translate(80.78125 53.154688)scale(0.1 -0.1)\">\n      <use xlink:href=\"#DejaVuSans-6d\"/>\n      <use x=\"97.412109\" xlink:href=\"#DejaVuSans-65\"/>\n      <use x=\"158.935547\" xlink:href=\"#DejaVuSans-61\"/>\n      <use x=\"220.214844\" xlink:href=\"#DejaVuSans-6e\"/>\n      <use x=\"283.59375\" xlink:href=\"#DejaVuSans-20\"/>\n      <use x=\"315.380859\" xlink:href=\"#DejaVuSans-33\"/>\n      <use x=\"379.003906\" xlink:href=\"#DejaVuSans-2c\"/>\n      <use x=\"410.791016\" xlink:href=\"#DejaVuSans-20\"/>\n      <use x=\"442.578125\" xlink:href=\"#DejaVuSans-73\"/>\n      <use x=\"494.677734\" xlink:href=\"#DejaVuSans-74\"/>\n      <use x=\"533.886719\" xlink:href=\"#DejaVuSans-64\"/>\n      <use x=\"597.363281\" xlink:href=\"#DejaVuSans-20\"/>\n      <use x=\"629.150391\" xlink:href=\"#DejaVuSans-31\"/>\n     </g>\n    </g>\n   </g>\n  </g>\n </g>\n <defs>\n  <clipPath id=\"pfdb494c77c\">\n   <rect height=\"135.9\" width=\"251.1\" x=\"43.78125\" y=\"7.2\"/>\n  </clipPath>\n </defs>\n</svg>\n",
      "text/plain": [
       "<Figure size 324x180 with 1 Axes>"
      ]
     },
     "metadata": {
      "needs_background": "light"
     },
     "output_type": "display_data"
    }
   ],
   "source": [
    "# Use NumPy again for visualization\n",
    "x = np.arange(-7, 7, 0.01)\n",
    "\n",
    "# Mean and standard deviation pairs\n",
    "params = [(0, 1), (0, 2), (3, 1)]\n",
    "d2l.plot(x, [normal(x, mu, sigma) for mu, sigma in params], xlabel='x',\n",
    "         ylabel='p(x)', figsize=(4.5, 2.5),\n",
    "         legend=[f'mean {mu}, std {sigma}' for mu, sigma in params])"
   ]
  },
  {
   "attachments": {},
   "cell_type": "markdown",
   "metadata": {},
   "source": [
    "#### 3.1.4. linear regression as a neural network"
   ]
  },
  {
   "cell_type": "code",
   "execution_count": null,
   "metadata": {},
   "outputs": [],
   "source": []
  },
  {
   "attachments": {},
   "cell_type": "markdown",
   "metadata": {},
   "source": [
    "### 3.2. Object oriented design"
   ]
  },
  {
   "cell_type": "markdown",
   "metadata": {},
   "source": []
  },
  {
   "cell_type": "code",
   "execution_count": 15,
   "metadata": {},
   "outputs": [],
   "source": [
    "import time\n",
    "import numpy as np\n",
    "import tensorflow as tf\n",
    "from d2l import torch as d2l\n"
   ]
  },
  {
   "cell_type": "code",
   "execution_count": 16,
   "metadata": {},
   "outputs": [],
   "source": [
    "def add_to_class(Class):  #@save\n",
    "    def wrapper(obj):\n",
    "        setattr(Class, obj.__name__, obj)\n",
    "    return wrapper"
   ]
  },
  {
   "cell_type": "code",
   "execution_count": 20,
   "metadata": {},
   "outputs": [],
   "source": [
    "class A:\n",
    "    def __init__(self):\n",
    "        self.b = 1\n",
    "\n",
    "a = A()"
   ]
  },
  {
   "cell_type": "code",
   "execution_count": 21,
   "metadata": {},
   "outputs": [
    {
     "data": {
      "text/plain": [
       "1"
      ]
     },
     "execution_count": 21,
     "metadata": {},
     "output_type": "execute_result"
    }
   ],
   "source": [
    "a.b"
   ]
  },
  {
   "cell_type": "code",
   "execution_count": 23,
   "metadata": {},
   "outputs": [
    {
     "name": "stdout",
     "output_type": "stream",
     "text": [
      "Class attribute \"b\" is 1\n"
     ]
    }
   ],
   "source": [
    "@add_to_class(A)\n",
    "def do(self):\n",
    "    print('Class attribute \"b\" is', self.b)\n",
    "\n",
    "a.do()"
   ]
  },
  {
   "cell_type": "code",
   "execution_count": 24,
   "metadata": {},
   "outputs": [],
   "source": [
    "class HyperParameters:  #@save\n",
    "    def save_hyperparameters(self, ignore=[]):\n",
    "        raise NotImplemented"
   ]
  },
  {
   "cell_type": "code",
   "execution_count": 25,
   "metadata": {},
   "outputs": [
    {
     "name": "stdout",
     "output_type": "stream",
     "text": [
      "self.a = 1 self.b = 2\n",
      "There is no self.c = True\n"
     ]
    }
   ],
   "source": [
    "# Call the fully implemented HyperParameters class saved in d2l\n",
    "class B(d2l.HyperParameters):\n",
    "    def __init__(self, a, b, c):\n",
    "        self.save_hyperparameters(ignore=['c'])\n",
    "        print('self.a =', self.a, 'self.b =', self.b)\n",
    "        print('There is no self.c =', not hasattr(self, 'c'))\n",
    "\n",
    "b = B(a=1, b=2, c=3)"
   ]
  },
  {
   "cell_type": "code",
   "execution_count": 26,
   "metadata": {},
   "outputs": [],
   "source": [
    "class ProgressBoard(d2l.HyperParameters):  #@save\n",
    "    \"\"\"Plot data points in animation.\"\"\"\n",
    "    def __init__(self, xlabel=None, ylabel=None, xlim=None,\n",
    "                 ylim=None, xscale='linear', yscale='linear',\n",
    "                 ls=['-', '--', '-.', ':'], colors=['C0', 'C1', 'C2', 'C3'],\n",
    "                 fig=None, axes=None, figsize=(3.5, 2.5), display=True):\n",
    "        self.save_hyperparameters()\n",
    "\n",
    "    def draw(self, x, y, label, every_n=1):\n",
    "        raise NotImplemented"
   ]
  },
  {
   "cell_type": "code",
   "execution_count": 27,
   "metadata": {},
   "outputs": [
    {
     "data": {
      "image/svg+xml": "<?xml version=\"1.0\" encoding=\"utf-8\" standalone=\"no\"?>\n<!DOCTYPE svg PUBLIC \"-//W3C//DTD SVG 1.1//EN\"\n  \"http://www.w3.org/Graphics/SVG/1.1/DTD/svg11.dtd\">\n<svg height=\"180.65625pt\" version=\"1.1\" viewBox=\"0 0 241.185572 180.65625\" width=\"241.185572pt\" xmlns=\"http://www.w3.org/2000/svg\" xmlns:xlink=\"http://www.w3.org/1999/xlink\">\n <metadata>\n  <rdf:RDF xmlns:cc=\"http://creativecommons.org/ns#\" xmlns:dc=\"http://purl.org/dc/elements/1.1/\" xmlns:rdf=\"http://www.w3.org/1999/02/22-rdf-syntax-ns#\">\n   <cc:Work>\n    <dc:type rdf:resource=\"http://purl.org/dc/dcmitype/StillImage\"/>\n    <dc:date>2023-01-01T20:22:30.269515</dc:date>\n    <dc:format>image/svg+xml</dc:format>\n    <dc:creator>\n     <cc:Agent>\n      <dc:title>Matplotlib v3.4.3, https://matplotlib.org/</dc:title>\n     </cc:Agent>\n    </dc:creator>\n   </cc:Work>\n  </rdf:RDF>\n </metadata>\n <defs>\n  <style type=\"text/css\">*{stroke-linecap:butt;stroke-linejoin:round;}</style>\n </defs>\n <g id=\"figure_1\">\n  <g id=\"patch_1\">\n   <path d=\"M -0 180.65625 \nL 241.185572 180.65625 \nL 241.185572 0 \nL -0 0 \nz\n\" style=\"fill:none;\"/>\n  </g>\n  <g id=\"axes_1\">\n   <g id=\"patch_2\">\n    <path d=\"M 38.482813 143.1 \nL 233.782813 143.1 \nL 233.782813 7.2 \nL 38.482813 7.2 \nz\n\" style=\"fill:#ffffff;\"/>\n   </g>\n   <g id=\"matplotlib.axis_1\">\n    <g id=\"xtick_1\">\n     <g id=\"line2d_1\">\n      <defs>\n       <path d=\"M 0 0 \nL 0 3.5 \n\" id=\"macfab87986\" style=\"stroke:#000000;stroke-width:0.8;\"/>\n      </defs>\n      <g>\n       <use style=\"stroke:#000000;stroke-width:0.8;\" x=\"46.454241\" xlink:href=\"#macfab87986\" y=\"143.1\"/>\n      </g>\n     </g>\n     <g id=\"text_1\">\n      <!-- 0 -->\n      <g transform=\"translate(43.272991 157.698438)scale(0.1 -0.1)\">\n       <defs>\n        <path d=\"M 2034 4250 \nQ 1547 4250 1301 3770 \nQ 1056 3291 1056 2328 \nQ 1056 1369 1301 889 \nQ 1547 409 2034 409 \nQ 2525 409 2770 889 \nQ 3016 1369 3016 2328 \nQ 3016 3291 2770 3770 \nQ 2525 4250 2034 4250 \nz\nM 2034 4750 \nQ 2819 4750 3233 4129 \nQ 3647 3509 3647 2328 \nQ 3647 1150 3233 529 \nQ 2819 -91 2034 -91 \nQ 1250 -91 836 529 \nQ 422 1150 422 2328 \nQ 422 3509 836 4129 \nQ 1250 4750 2034 4750 \nz\n\" id=\"DejaVuSans-30\" transform=\"scale(0.015625)\"/>\n       </defs>\n       <use xlink:href=\"#DejaVuSans-30\"/>\n      </g>\n     </g>\n    </g>\n    <g id=\"xtick_2\">\n     <g id=\"line2d_2\">\n      <g>\n       <use style=\"stroke:#000000;stroke-width:0.8;\" x=\"82.688007\" xlink:href=\"#macfab87986\" y=\"143.1\"/>\n      </g>\n     </g>\n     <g id=\"text_2\">\n      <!-- 2 -->\n      <g transform=\"translate(79.506757 157.698438)scale(0.1 -0.1)\">\n       <defs>\n        <path d=\"M 1228 531 \nL 3431 531 \nL 3431 0 \nL 469 0 \nL 469 531 \nQ 828 903 1448 1529 \nQ 2069 2156 2228 2338 \nQ 2531 2678 2651 2914 \nQ 2772 3150 2772 3378 \nQ 2772 3750 2511 3984 \nQ 2250 4219 1831 4219 \nQ 1534 4219 1204 4116 \nQ 875 4013 500 3803 \nL 500 4441 \nQ 881 4594 1212 4672 \nQ 1544 4750 1819 4750 \nQ 2544 4750 2975 4387 \nQ 3406 4025 3406 3419 \nQ 3406 3131 3298 2873 \nQ 3191 2616 2906 2266 \nQ 2828 2175 2409 1742 \nQ 1991 1309 1228 531 \nz\n\" id=\"DejaVuSans-32\" transform=\"scale(0.015625)\"/>\n       </defs>\n       <use xlink:href=\"#DejaVuSans-32\"/>\n      </g>\n     </g>\n    </g>\n    <g id=\"xtick_3\">\n     <g id=\"line2d_3\">\n      <g>\n       <use style=\"stroke:#000000;stroke-width:0.8;\" x=\"118.921774\" xlink:href=\"#macfab87986\" y=\"143.1\"/>\n      </g>\n     </g>\n     <g id=\"text_3\">\n      <!-- 4 -->\n      <g transform=\"translate(115.740524 157.698438)scale(0.1 -0.1)\">\n       <defs>\n        <path d=\"M 2419 4116 \nL 825 1625 \nL 2419 1625 \nL 2419 4116 \nz\nM 2253 4666 \nL 3047 4666 \nL 3047 1625 \nL 3713 1625 \nL 3713 1100 \nL 3047 1100 \nL 3047 0 \nL 2419 0 \nL 2419 1100 \nL 313 1100 \nL 313 1709 \nL 2253 4666 \nz\n\" id=\"DejaVuSans-34\" transform=\"scale(0.015625)\"/>\n       </defs>\n       <use xlink:href=\"#DejaVuSans-34\"/>\n      </g>\n     </g>\n    </g>\n    <g id=\"xtick_4\">\n     <g id=\"line2d_4\">\n      <g>\n       <use style=\"stroke:#000000;stroke-width:0.8;\" x=\"155.15554\" xlink:href=\"#macfab87986\" y=\"143.1\"/>\n      </g>\n     </g>\n     <g id=\"text_4\">\n      <!-- 6 -->\n      <g transform=\"translate(151.97429 157.698438)scale(0.1 -0.1)\">\n       <defs>\n        <path d=\"M 2113 2584 \nQ 1688 2584 1439 2293 \nQ 1191 2003 1191 1497 \nQ 1191 994 1439 701 \nQ 1688 409 2113 409 \nQ 2538 409 2786 701 \nQ 3034 994 3034 1497 \nQ 3034 2003 2786 2293 \nQ 2538 2584 2113 2584 \nz\nM 3366 4563 \nL 3366 3988 \nQ 3128 4100 2886 4159 \nQ 2644 4219 2406 4219 \nQ 1781 4219 1451 3797 \nQ 1122 3375 1075 2522 \nQ 1259 2794 1537 2939 \nQ 1816 3084 2150 3084 \nQ 2853 3084 3261 2657 \nQ 3669 2231 3669 1497 \nQ 3669 778 3244 343 \nQ 2819 -91 2113 -91 \nQ 1303 -91 875 529 \nQ 447 1150 447 2328 \nQ 447 3434 972 4092 \nQ 1497 4750 2381 4750 \nQ 2619 4750 2861 4703 \nQ 3103 4656 3366 4563 \nz\n\" id=\"DejaVuSans-36\" transform=\"scale(0.015625)\"/>\n       </defs>\n       <use xlink:href=\"#DejaVuSans-36\"/>\n      </g>\n     </g>\n    </g>\n    <g id=\"xtick_5\">\n     <g id=\"line2d_5\">\n      <g>\n       <use style=\"stroke:#000000;stroke-width:0.8;\" x=\"191.389306\" xlink:href=\"#macfab87986\" y=\"143.1\"/>\n      </g>\n     </g>\n     <g id=\"text_5\">\n      <!-- 8 -->\n      <g transform=\"translate(188.208056 157.698438)scale(0.1 -0.1)\">\n       <defs>\n        <path d=\"M 2034 2216 \nQ 1584 2216 1326 1975 \nQ 1069 1734 1069 1313 \nQ 1069 891 1326 650 \nQ 1584 409 2034 409 \nQ 2484 409 2743 651 \nQ 3003 894 3003 1313 \nQ 3003 1734 2745 1975 \nQ 2488 2216 2034 2216 \nz\nM 1403 2484 \nQ 997 2584 770 2862 \nQ 544 3141 544 3541 \nQ 544 4100 942 4425 \nQ 1341 4750 2034 4750 \nQ 2731 4750 3128 4425 \nQ 3525 4100 3525 3541 \nQ 3525 3141 3298 2862 \nQ 3072 2584 2669 2484 \nQ 3125 2378 3379 2068 \nQ 3634 1759 3634 1313 \nQ 3634 634 3220 271 \nQ 2806 -91 2034 -91 \nQ 1263 -91 848 271 \nQ 434 634 434 1313 \nQ 434 1759 690 2068 \nQ 947 2378 1403 2484 \nz\nM 1172 3481 \nQ 1172 3119 1398 2916 \nQ 1625 2713 2034 2713 \nQ 2441 2713 2670 2916 \nQ 2900 3119 2900 3481 \nQ 2900 3844 2670 4047 \nQ 2441 4250 2034 4250 \nQ 1625 4250 1398 4047 \nQ 1172 3844 1172 3481 \nz\n\" id=\"DejaVuSans-38\" transform=\"scale(0.015625)\"/>\n       </defs>\n       <use xlink:href=\"#DejaVuSans-38\"/>\n      </g>\n     </g>\n    </g>\n    <g id=\"xtick_6\">\n     <g id=\"line2d_6\">\n      <g>\n       <use style=\"stroke:#000000;stroke-width:0.8;\" x=\"227.623072\" xlink:href=\"#macfab87986\" y=\"143.1\"/>\n      </g>\n     </g>\n     <g id=\"text_6\">\n      <!-- 10 -->\n      <g transform=\"translate(221.260572 157.698438)scale(0.1 -0.1)\">\n       <defs>\n        <path d=\"M 794 531 \nL 1825 531 \nL 1825 4091 \nL 703 3866 \nL 703 4441 \nL 1819 4666 \nL 2450 4666 \nL 2450 531 \nL 3481 531 \nL 3481 0 \nL 794 0 \nL 794 531 \nz\n\" id=\"DejaVuSans-31\" transform=\"scale(0.015625)\"/>\n       </defs>\n       <use xlink:href=\"#DejaVuSans-31\"/>\n       <use x=\"63.623047\" xlink:href=\"#DejaVuSans-30\"/>\n      </g>\n     </g>\n    </g>\n    <g id=\"text_7\">\n     <!-- x -->\n     <g transform=\"translate(133.173438 171.376563)scale(0.1 -0.1)\">\n      <defs>\n       <path d=\"M 3513 3500 \nL 2247 1797 \nL 3578 0 \nL 2900 0 \nL 1881 1375 \nL 863 0 \nL 184 0 \nL 1544 1831 \nL 300 3500 \nL 978 3500 \nL 1906 2253 \nL 2834 3500 \nL 3513 3500 \nz\n\" id=\"DejaVuSans-78\" transform=\"scale(0.015625)\"/>\n      </defs>\n      <use xlink:href=\"#DejaVuSans-78\"/>\n     </g>\n    </g>\n   </g>\n   <g id=\"matplotlib.axis_2\">\n    <g id=\"ytick_1\">\n     <g id=\"line2d_7\">\n      <defs>\n       <path d=\"M 0 0 \nL -3.5 0 \n\" id=\"me328c20808\" style=\"stroke:#000000;stroke-width:0.8;\"/>\n      </defs>\n      <g>\n       <use style=\"stroke:#000000;stroke-width:0.8;\" x=\"38.482813\" xlink:href=\"#me328c20808\" y=\"137.120399\"/>\n      </g>\n     </g>\n     <g id=\"text_8\">\n      <!-- −1.0 -->\n      <g transform=\"translate(7.2 140.919618)scale(0.1 -0.1)\">\n       <defs>\n        <path d=\"M 678 2272 \nL 4684 2272 \nL 4684 1741 \nL 678 1741 \nL 678 2272 \nz\n\" id=\"DejaVuSans-2212\" transform=\"scale(0.015625)\"/>\n        <path d=\"M 684 794 \nL 1344 794 \nL 1344 0 \nL 684 0 \nL 684 794 \nz\n\" id=\"DejaVuSans-2e\" transform=\"scale(0.015625)\"/>\n       </defs>\n       <use xlink:href=\"#DejaVuSans-2212\"/>\n       <use x=\"83.789062\" xlink:href=\"#DejaVuSans-31\"/>\n       <use x=\"147.412109\" xlink:href=\"#DejaVuSans-2e\"/>\n       <use x=\"179.199219\" xlink:href=\"#DejaVuSans-30\"/>\n      </g>\n     </g>\n    </g>\n    <g id=\"ytick_2\">\n     <g id=\"line2d_8\">\n      <g>\n       <use style=\"stroke:#000000;stroke-width:0.8;\" x=\"38.482813\" xlink:href=\"#me328c20808\" y=\"106.165152\"/>\n      </g>\n     </g>\n     <g id=\"text_9\">\n      <!-- −0.5 -->\n      <g transform=\"translate(7.2 109.964371)scale(0.1 -0.1)\">\n       <defs>\n        <path d=\"M 691 4666 \nL 3169 4666 \nL 3169 4134 \nL 1269 4134 \nL 1269 2991 \nQ 1406 3038 1543 3061 \nQ 1681 3084 1819 3084 \nQ 2600 3084 3056 2656 \nQ 3513 2228 3513 1497 \nQ 3513 744 3044 326 \nQ 2575 -91 1722 -91 \nQ 1428 -91 1123 -41 \nQ 819 9 494 109 \nL 494 744 \nQ 775 591 1075 516 \nQ 1375 441 1709 441 \nQ 2250 441 2565 725 \nQ 2881 1009 2881 1497 \nQ 2881 1984 2565 2268 \nQ 2250 2553 1709 2553 \nQ 1456 2553 1204 2497 \nQ 953 2441 691 2322 \nL 691 4666 \nz\n\" id=\"DejaVuSans-35\" transform=\"scale(0.015625)\"/>\n       </defs>\n       <use xlink:href=\"#DejaVuSans-2212\"/>\n       <use x=\"83.789062\" xlink:href=\"#DejaVuSans-30\"/>\n       <use x=\"147.412109\" xlink:href=\"#DejaVuSans-2e\"/>\n       <use x=\"179.199219\" xlink:href=\"#DejaVuSans-35\"/>\n      </g>\n     </g>\n    </g>\n    <g id=\"ytick_3\">\n     <g id=\"line2d_9\">\n      <g>\n       <use style=\"stroke:#000000;stroke-width:0.8;\" x=\"38.482813\" xlink:href=\"#me328c20808\" y=\"75.209905\"/>\n      </g>\n     </g>\n     <g id=\"text_10\">\n      <!-- 0.0 -->\n      <g transform=\"translate(15.579688 79.009124)scale(0.1 -0.1)\">\n       <use xlink:href=\"#DejaVuSans-30\"/>\n       <use x=\"63.623047\" xlink:href=\"#DejaVuSans-2e\"/>\n       <use x=\"95.410156\" xlink:href=\"#DejaVuSans-30\"/>\n      </g>\n     </g>\n    </g>\n    <g id=\"ytick_4\">\n     <g id=\"line2d_10\">\n      <g>\n       <use style=\"stroke:#000000;stroke-width:0.8;\" x=\"38.482813\" xlink:href=\"#me328c20808\" y=\"44.254658\"/>\n      </g>\n     </g>\n     <g id=\"text_11\">\n      <!-- 0.5 -->\n      <g transform=\"translate(15.579688 48.053877)scale(0.1 -0.1)\">\n       <use xlink:href=\"#DejaVuSans-30\"/>\n       <use x=\"63.623047\" xlink:href=\"#DejaVuSans-2e\"/>\n       <use x=\"95.410156\" xlink:href=\"#DejaVuSans-35\"/>\n      </g>\n     </g>\n    </g>\n    <g id=\"ytick_5\">\n     <g id=\"line2d_11\">\n      <g>\n       <use style=\"stroke:#000000;stroke-width:0.8;\" x=\"38.482813\" xlink:href=\"#me328c20808\" y=\"13.299411\"/>\n      </g>\n     </g>\n     <g id=\"text_12\">\n      <!-- 1.0 -->\n      <g transform=\"translate(15.579688 17.098629)scale(0.1 -0.1)\">\n       <use xlink:href=\"#DejaVuSans-31\"/>\n       <use x=\"63.623047\" xlink:href=\"#DejaVuSans-2e\"/>\n       <use x=\"95.410156\" xlink:href=\"#DejaVuSans-30\"/>\n      </g>\n     </g>\n    </g>\n   </g>\n   <g id=\"line2d_12\">\n    <path clip-path=\"url(#pff743fb5e0)\" d=\"M 47.360085 72.119537 \n\" style=\"fill:none;stroke:#1f77b4;stroke-linecap:square;stroke-width:1.5;\"/>\n   </g>\n   <g id=\"line2d_13\"/>\n   <g id=\"line2d_14\">\n    <path clip-path=\"url(#pff743fb5e0)\" d=\"M 47.360085 72.119537 \nL 50.983462 59.912146 \n\" style=\"fill:none;stroke:#1f77b4;stroke-linecap:square;stroke-width:1.5;\"/>\n   </g>\n   <g id=\"line2d_15\"/>\n   <g id=\"line2d_16\">\n    <path clip-path=\"url(#pff743fb5e0)\" d=\"M 47.360085 72.119537 \nL 50.983462 59.912146 \nL 54.606838 48.314628 \n\" style=\"fill:none;stroke:#1f77b4;stroke-linecap:square;stroke-width:1.5;\"/>\n   </g>\n   <g id=\"line2d_17\"/>\n   <g id=\"line2d_18\">\n    <path clip-path=\"url(#pff743fb5e0)\" d=\"M 47.360085 72.119537 \nL 50.983462 59.912146 \nL 54.606838 48.314628 \nL 58.230215 37.78934 \n\" style=\"fill:none;stroke:#1f77b4;stroke-linecap:square;stroke-width:1.5;\"/>\n   </g>\n   <g id=\"line2d_19\"/>\n   <g id=\"line2d_20\">\n    <path clip-path=\"url(#pff743fb5e0)\" d=\"M 47.360085 72.119537 \nL 50.983462 59.912146 \nL 54.606838 48.314628 \nL 58.230215 37.78934 \nL 61.853592 28.755892 \n\" style=\"fill:none;stroke:#1f77b4;stroke-linecap:square;stroke-width:1.5;\"/>\n   </g>\n   <g id=\"line2d_21\"/>\n   <g id=\"line2d_22\">\n    <path clip-path=\"url(#pff743fb5e0)\" d=\"M 47.360085 72.119537 \nL 50.983462 59.912146 \nL 54.606838 48.314628 \nL 58.230215 37.78934 \nL 61.853592 28.755892 \n\" style=\"fill:none;stroke:#1f77b4;stroke-linecap:square;stroke-width:1.5;\"/>\n   </g>\n   <g id=\"line2d_23\">\n    <path clip-path=\"url(#pff743fb5e0)\" d=\"M 54.606838 21.734435 \n\" style=\"fill:none;stroke:#ff7f0e;stroke-dasharray:5.55,2.4;stroke-dashoffset:0;stroke-width:1.5;\"/>\n   </g>\n   <g id=\"line2d_24\">\n    <path clip-path=\"url(#pff743fb5e0)\" d=\"M 47.360085 72.119537 \nL 50.983462 59.912146 \nL 54.606838 48.314628 \nL 58.230215 37.78934 \nL 61.853592 28.755892 \nL 65.476968 21.574419 \n\" style=\"fill:none;stroke:#1f77b4;stroke-linecap:square;stroke-width:1.5;\"/>\n   </g>\n   <g id=\"line2d_25\">\n    <path clip-path=\"url(#pff743fb5e0)\" d=\"M 54.606838 21.734435 \n\" style=\"fill:none;stroke:#ff7f0e;stroke-dasharray:5.55,2.4;stroke-dashoffset:0;stroke-width:1.5;\"/>\n   </g>\n   <g id=\"line2d_26\">\n    <path clip-path=\"url(#pff743fb5e0)\" d=\"M 47.360085 72.119537 \nL 50.983462 59.912146 \nL 54.606838 48.314628 \nL 58.230215 37.78934 \nL 61.853592 28.755892 \nL 65.476968 21.574419 \nL 69.100345 16.531223 \n\" style=\"fill:none;stroke:#1f77b4;stroke-linecap:square;stroke-width:1.5;\"/>\n   </g>\n   <g id=\"line2d_27\">\n    <path clip-path=\"url(#pff743fb5e0)\" d=\"M 54.606838 21.734435 \n\" style=\"fill:none;stroke:#ff7f0e;stroke-dasharray:5.55,2.4;stroke-dashoffset:0;stroke-width:1.5;\"/>\n   </g>\n   <g id=\"line2d_28\">\n    <path clip-path=\"url(#pff743fb5e0)\" d=\"M 47.360085 72.119537 \nL 50.983462 59.912146 \nL 54.606838 48.314628 \nL 58.230215 37.78934 \nL 61.853592 28.755892 \nL 65.476968 21.574419 \nL 69.100345 16.531223 \nL 72.723722 13.827361 \n\" style=\"fill:none;stroke:#1f77b4;stroke-linecap:square;stroke-width:1.5;\"/>\n   </g>\n   <g id=\"line2d_29\">\n    <path clip-path=\"url(#pff743fb5e0)\" d=\"M 54.606838 21.734435 \n\" style=\"fill:none;stroke:#ff7f0e;stroke-dasharray:5.55,2.4;stroke-dashoffset:0;stroke-width:1.5;\"/>\n   </g>\n   <g id=\"line2d_30\">\n    <path clip-path=\"url(#pff743fb5e0)\" d=\"M 47.360085 72.119537 \nL 50.983462 59.912146 \nL 54.606838 48.314628 \nL 58.230215 37.78934 \nL 61.853592 28.755892 \nL 65.476968 21.574419 \nL 69.100345 16.531223 \nL 72.723722 13.827361 \nL 76.347098 13.570628 \n\" style=\"fill:none;stroke:#1f77b4;stroke-linecap:square;stroke-width:1.5;\"/>\n   </g>\n   <g id=\"line2d_31\">\n    <path clip-path=\"url(#pff743fb5e0)\" d=\"M 54.606838 21.734435 \n\" style=\"fill:none;stroke:#ff7f0e;stroke-dasharray:5.55,2.4;stroke-dashoffset:0;stroke-width:1.5;\"/>\n   </g>\n   <g id=\"line2d_32\">\n    <path clip-path=\"url(#pff743fb5e0)\" d=\"M 47.360085 72.119537 \nL 50.983462 59.912146 \nL 54.606838 48.314628 \nL 58.230215 37.78934 \nL 61.853592 28.755892 \nL 65.476968 21.574419 \nL 69.100345 16.531223 \nL 72.723722 13.827361 \nL 76.347098 13.570628 \nL 79.970475 15.771258 \n\" style=\"fill:none;stroke:#1f77b4;stroke-linecap:square;stroke-width:1.5;\"/>\n   </g>\n   <g id=\"line2d_33\">\n    <path clip-path=\"url(#pff743fb5e0)\" d=\"M 54.606838 21.734435 \n\" style=\"fill:none;stroke:#ff7f0e;stroke-dasharray:5.55,2.4;stroke-dashoffset:0;stroke-width:1.5;\"/>\n   </g>\n   <g id=\"line2d_34\">\n    <path clip-path=\"url(#pff743fb5e0)\" d=\"M 47.360085 72.119537 \nL 50.983462 59.912146 \nL 54.606838 48.314628 \nL 58.230215 37.78934 \nL 61.853592 28.755892 \nL 65.476968 21.574419 \nL 69.100345 16.531223 \nL 72.723722 13.827361 \nL 76.347098 13.570628 \nL 79.970475 15.771258 \n\" style=\"fill:none;stroke:#1f77b4;stroke-linecap:square;stroke-width:1.5;\"/>\n   </g>\n   <g id=\"line2d_35\">\n    <path clip-path=\"url(#pff743fb5e0)\" d=\"M 54.606838 21.734435 \nL 72.723722 68.053524 \n\" style=\"fill:none;stroke:#ff7f0e;stroke-dasharray:5.55,2.4;stroke-dashoffset:0;stroke-width:1.5;\"/>\n   </g>\n   <g id=\"line2d_36\">\n    <path clip-path=\"url(#pff743fb5e0)\" d=\"M 47.360085 72.119537 \nL 50.983462 59.912146 \nL 54.606838 48.314628 \nL 58.230215 37.78934 \nL 61.853592 28.755892 \nL 65.476968 21.574419 \nL 69.100345 16.531223 \nL 72.723722 13.827361 \nL 76.347098 13.570628 \nL 79.970475 15.771258 \nL 83.593851 20.341519 \n\" style=\"fill:none;stroke:#1f77b4;stroke-linecap:square;stroke-width:1.5;\"/>\n   </g>\n   <g id=\"line2d_37\">\n    <path clip-path=\"url(#pff743fb5e0)\" d=\"M 54.606838 21.734435 \nL 72.723722 68.053524 \n\" style=\"fill:none;stroke:#ff7f0e;stroke-dasharray:5.55,2.4;stroke-dashoffset:0;stroke-width:1.5;\"/>\n   </g>\n   <g id=\"line2d_38\">\n    <path clip-path=\"url(#pff743fb5e0)\" d=\"M 47.360085 72.119537 \nL 50.983462 59.912146 \nL 54.606838 48.314628 \nL 58.230215 37.78934 \nL 61.853592 28.755892 \nL 65.476968 21.574419 \nL 69.100345 16.531223 \nL 72.723722 13.827361 \nL 76.347098 13.570628 \nL 79.970475 15.771258 \nL 83.593851 20.341519 \nL 87.217228 27.09921 \n\" style=\"fill:none;stroke:#1f77b4;stroke-linecap:square;stroke-width:1.5;\"/>\n   </g>\n   <g id=\"line2d_39\">\n    <path clip-path=\"url(#pff743fb5e0)\" d=\"M 54.606838 21.734435 \nL 72.723722 68.053524 \n\" style=\"fill:none;stroke:#ff7f0e;stroke-dasharray:5.55,2.4;stroke-dashoffset:0;stroke-width:1.5;\"/>\n   </g>\n   <g id=\"line2d_40\">\n    <path clip-path=\"url(#pff743fb5e0)\" d=\"M 47.360085 72.119537 \nL 50.983462 59.912146 \nL 54.606838 48.314628 \nL 58.230215 37.78934 \nL 61.853592 28.755892 \nL 65.476968 21.574419 \nL 69.100345 16.531223 \nL 72.723722 13.827361 \nL 76.347098 13.570628 \nL 79.970475 15.771258 \nL 83.593851 20.341519 \nL 87.217228 27.09921 \nL 90.840605 35.774922 \n\" style=\"fill:none;stroke:#1f77b4;stroke-linecap:square;stroke-width:1.5;\"/>\n   </g>\n   <g id=\"line2d_41\">\n    <path clip-path=\"url(#pff743fb5e0)\" d=\"M 54.606838 21.734435 \nL 72.723722 68.053524 \n\" style=\"fill:none;stroke:#ff7f0e;stroke-dasharray:5.55,2.4;stroke-dashoffset:0;stroke-width:1.5;\"/>\n   </g>\n   <g id=\"line2d_42\">\n    <path clip-path=\"url(#pff743fb5e0)\" d=\"M 47.360085 72.119537 \nL 50.983462 59.912146 \nL 54.606838 48.314628 \nL 58.230215 37.78934 \nL 61.853592 28.755892 \nL 65.476968 21.574419 \nL 69.100345 16.531223 \nL 72.723722 13.827361 \nL 76.347098 13.570628 \nL 79.970475 15.771258 \nL 83.593851 20.341519 \nL 87.217228 27.09921 \nL 90.840605 35.774922 \nL 94.463981 46.022783 \n\" style=\"fill:none;stroke:#1f77b4;stroke-linecap:square;stroke-width:1.5;\"/>\n   </g>\n   <g id=\"line2d_43\">\n    <path clip-path=\"url(#pff743fb5e0)\" d=\"M 54.606838 21.734435 \nL 72.723722 68.053524 \n\" style=\"fill:none;stroke:#ff7f0e;stroke-dasharray:5.55,2.4;stroke-dashoffset:0;stroke-width:1.5;\"/>\n   </g>\n   <g id=\"line2d_44\">\n    <path clip-path=\"url(#pff743fb5e0)\" d=\"M 47.360085 72.119537 \nL 50.983462 59.912146 \nL 54.606838 48.314628 \nL 58.230215 37.78934 \nL 61.853592 28.755892 \nL 65.476968 21.574419 \nL 69.100345 16.531223 \nL 72.723722 13.827361 \nL 76.347098 13.570628 \nL 79.970475 15.771258 \nL 83.593851 20.341519 \nL 87.217228 27.09921 \nL 90.840605 35.774922 \nL 94.463981 46.022783 \nL 98.087358 57.434242 \n\" style=\"fill:none;stroke:#1f77b4;stroke-linecap:square;stroke-width:1.5;\"/>\n   </g>\n   <g id=\"line2d_45\">\n    <path clip-path=\"url(#pff743fb5e0)\" d=\"M 54.606838 21.734435 \nL 72.723722 68.053524 \n\" style=\"fill:none;stroke:#ff7f0e;stroke-dasharray:5.55,2.4;stroke-dashoffset:0;stroke-width:1.5;\"/>\n   </g>\n   <g id=\"line2d_46\">\n    <path clip-path=\"url(#pff743fb5e0)\" d=\"M 47.360085 72.119537 \nL 50.983462 59.912146 \nL 54.606838 48.314628 \nL 58.230215 37.78934 \nL 61.853592 28.755892 \nL 65.476968 21.574419 \nL 69.100345 16.531223 \nL 72.723722 13.827361 \nL 76.347098 13.570628 \nL 79.970475 15.771258 \nL 83.593851 20.341519 \nL 87.217228 27.09921 \nL 90.840605 35.774922 \nL 94.463981 46.022783 \nL 98.087358 57.434242 \n\" style=\"fill:none;stroke:#1f77b4;stroke-linecap:square;stroke-width:1.5;\"/>\n   </g>\n   <g id=\"line2d_47\">\n    <path clip-path=\"url(#pff743fb5e0)\" d=\"M 54.606838 21.734435 \nL 72.723722 68.053524 \nL 90.840605 120.952157 \n\" style=\"fill:none;stroke:#ff7f0e;stroke-dasharray:5.55,2.4;stroke-dashoffset:0;stroke-width:1.5;\"/>\n   </g>\n   <g id=\"line2d_48\">\n    <path clip-path=\"url(#pff743fb5e0)\" d=\"M 47.360085 72.119537 \nL 50.983462 59.912146 \nL 54.606838 48.314628 \nL 58.230215 37.78934 \nL 61.853592 28.755892 \nL 65.476968 21.574419 \nL 69.100345 16.531223 \nL 72.723722 13.827361 \nL 76.347098 13.570628 \nL 79.970475 15.771258 \nL 83.593851 20.341519 \nL 87.217228 27.09921 \nL 90.840605 35.774922 \nL 94.463981 46.022783 \nL 98.087358 57.434242 \nL 101.710735 69.554361 \n\" style=\"fill:none;stroke:#1f77b4;stroke-linecap:square;stroke-width:1.5;\"/>\n   </g>\n   <g id=\"line2d_49\">\n    <path clip-path=\"url(#pff743fb5e0)\" d=\"M 54.606838 21.734435 \nL 72.723722 68.053524 \nL 90.840605 120.952157 \n\" style=\"fill:none;stroke:#ff7f0e;stroke-dasharray:5.55,2.4;stroke-dashoffset:0;stroke-width:1.5;\"/>\n   </g>\n   <g id=\"line2d_50\">\n    <path clip-path=\"url(#pff743fb5e0)\" d=\"M 47.360085 72.119537 \nL 50.983462 59.912146 \nL 54.606838 48.314628 \nL 58.230215 37.78934 \nL 61.853592 28.755892 \nL 65.476968 21.574419 \nL 69.100345 16.531223 \nL 72.723722 13.827361 \nL 76.347098 13.570628 \nL 79.970475 15.771258 \nL 83.593851 20.341519 \nL 87.217228 27.09921 \nL 90.840605 35.774922 \nL 94.463981 46.022783 \nL 98.087358 57.434242 \nL 101.710735 69.554361 \nL 105.334111 81.899948 \n\" style=\"fill:none;stroke:#1f77b4;stroke-linecap:square;stroke-width:1.5;\"/>\n   </g>\n   <g id=\"line2d_51\">\n    <path clip-path=\"url(#pff743fb5e0)\" d=\"M 54.606838 21.734435 \nL 72.723722 68.053524 \nL 90.840605 120.952157 \n\" style=\"fill:none;stroke:#ff7f0e;stroke-dasharray:5.55,2.4;stroke-dashoffset:0;stroke-width:1.5;\"/>\n   </g>\n   <g id=\"line2d_52\">\n    <path clip-path=\"url(#pff743fb5e0)\" d=\"M 47.360085 72.119537 \nL 50.983462 59.912146 \nL 54.606838 48.314628 \nL 58.230215 37.78934 \nL 61.853592 28.755892 \nL 65.476968 21.574419 \nL 69.100345 16.531223 \nL 72.723722 13.827361 \nL 76.347098 13.570628 \nL 79.970475 15.771258 \nL 83.593851 20.341519 \nL 87.217228 27.09921 \nL 90.840605 35.774922 \nL 94.463981 46.022783 \nL 98.087358 57.434242 \nL 101.710735 69.554361 \nL 105.334111 81.899948 \nL 108.957488 93.978825 \n\" style=\"fill:none;stroke:#1f77b4;stroke-linecap:square;stroke-width:1.5;\"/>\n   </g>\n   <g id=\"line2d_53\">\n    <path clip-path=\"url(#pff743fb5e0)\" d=\"M 54.606838 21.734435 \nL 72.723722 68.053524 \nL 90.840605 120.952157 \n\" style=\"fill:none;stroke:#ff7f0e;stroke-dasharray:5.55,2.4;stroke-dashoffset:0;stroke-width:1.5;\"/>\n   </g>\n   <g id=\"line2d_54\">\n    <path clip-path=\"url(#pff743fb5e0)\" d=\"M 47.360085 72.119537 \nL 50.983462 59.912146 \nL 54.606838 48.314628 \nL 58.230215 37.78934 \nL 61.853592 28.755892 \nL 65.476968 21.574419 \nL 69.100345 16.531223 \nL 72.723722 13.827361 \nL 76.347098 13.570628 \nL 79.970475 15.771258 \nL 83.593851 20.341519 \nL 87.217228 27.09921 \nL 90.840605 35.774922 \nL 94.463981 46.022783 \nL 98.087358 57.434242 \nL 101.710735 69.554361 \nL 105.334111 81.899948 \nL 108.957488 93.978825 \nL 112.580864 105.309443 \n\" style=\"fill:none;stroke:#1f77b4;stroke-linecap:square;stroke-width:1.5;\"/>\n   </g>\n   <g id=\"line2d_55\">\n    <path clip-path=\"url(#pff743fb5e0)\" d=\"M 54.606838 21.734435 \nL 72.723722 68.053524 \nL 90.840605 120.952157 \n\" style=\"fill:none;stroke:#ff7f0e;stroke-dasharray:5.55,2.4;stroke-dashoffset:0;stroke-width:1.5;\"/>\n   </g>\n   <g id=\"line2d_56\">\n    <path clip-path=\"url(#pff743fb5e0)\" d=\"M 47.360085 72.119537 \nL 50.983462 59.912146 \nL 54.606838 48.314628 \nL 58.230215 37.78934 \nL 61.853592 28.755892 \nL 65.476968 21.574419 \nL 69.100345 16.531223 \nL 72.723722 13.827361 \nL 76.347098 13.570628 \nL 79.970475 15.771258 \nL 83.593851 20.341519 \nL 87.217228 27.09921 \nL 90.840605 35.774922 \nL 94.463981 46.022783 \nL 98.087358 57.434242 \nL 101.710735 69.554361 \nL 105.334111 81.899948 \nL 108.957488 93.978825 \nL 112.580864 105.309443 \nL 116.204241 115.440089 \n\" style=\"fill:none;stroke:#1f77b4;stroke-linecap:square;stroke-width:1.5;\"/>\n   </g>\n   <g id=\"line2d_57\">\n    <path clip-path=\"url(#pff743fb5e0)\" d=\"M 54.606838 21.734435 \nL 72.723722 68.053524 \nL 90.840605 120.952157 \n\" style=\"fill:none;stroke:#ff7f0e;stroke-dasharray:5.55,2.4;stroke-dashoffset:0;stroke-width:1.5;\"/>\n   </g>\n   <g id=\"line2d_58\">\n    <path clip-path=\"url(#pff743fb5e0)\" d=\"M 47.360085 72.119537 \nL 50.983462 59.912146 \nL 54.606838 48.314628 \nL 58.230215 37.78934 \nL 61.853592 28.755892 \nL 65.476968 21.574419 \nL 69.100345 16.531223 \nL 72.723722 13.827361 \nL 76.347098 13.570628 \nL 79.970475 15.771258 \nL 83.593851 20.341519 \nL 87.217228 27.09921 \nL 90.840605 35.774922 \nL 94.463981 46.022783 \nL 98.087358 57.434242 \nL 101.710735 69.554361 \nL 105.334111 81.899948 \nL 108.957488 93.978825 \nL 112.580864 105.309443 \nL 116.204241 115.440089 \n\" style=\"fill:none;stroke:#1f77b4;stroke-linecap:square;stroke-width:1.5;\"/>\n   </g>\n   <g id=\"line2d_59\">\n    <path clip-path=\"url(#pff743fb5e0)\" d=\"M 54.606838 21.734435 \nL 72.723722 68.053524 \nL 90.840605 120.952157 \nL 108.957488 131.795574 \n\" style=\"fill:none;stroke:#ff7f0e;stroke-dasharray:5.55,2.4;stroke-dashoffset:0;stroke-width:1.5;\"/>\n   </g>\n   <g id=\"line2d_60\">\n    <path clip-path=\"url(#pff743fb5e0)\" d=\"M 47.360085 72.119537 \nL 50.983462 59.912146 \nL 54.606838 48.314628 \nL 58.230215 37.78934 \nL 61.853592 28.755892 \nL 65.476968 21.574419 \nL 69.100345 16.531223 \nL 72.723722 13.827361 \nL 76.347098 13.570628 \nL 79.970475 15.771258 \nL 83.593851 20.341519 \nL 87.217228 27.09921 \nL 90.840605 35.774922 \nL 94.463981 46.022783 \nL 98.087358 57.434242 \nL 101.710735 69.554361 \nL 105.334111 81.899948 \nL 108.957488 93.978825 \nL 112.580864 105.309443 \nL 116.204241 115.440089 \nL 119.827618 123.966884 \n\" style=\"fill:none;stroke:#1f77b4;stroke-linecap:square;stroke-width:1.5;\"/>\n   </g>\n   <g id=\"line2d_61\">\n    <path clip-path=\"url(#pff743fb5e0)\" d=\"M 54.606838 21.734435 \nL 72.723722 68.053524 \nL 90.840605 120.952157 \nL 108.957488 131.795574 \n\" style=\"fill:none;stroke:#ff7f0e;stroke-dasharray:5.55,2.4;stroke-dashoffset:0;stroke-width:1.5;\"/>\n   </g>\n   <g id=\"line2d_62\">\n    <path clip-path=\"url(#pff743fb5e0)\" d=\"M 47.360085 72.119537 \nL 50.983462 59.912146 \nL 54.606838 48.314628 \nL 58.230215 37.78934 \nL 61.853592 28.755892 \nL 65.476968 21.574419 \nL 69.100345 16.531223 \nL 72.723722 13.827361 \nL 76.347098 13.570628 \nL 79.970475 15.771258 \nL 83.593851 20.341519 \nL 87.217228 27.09921 \nL 90.840605 35.774922 \nL 94.463981 46.022783 \nL 98.087358 57.434242 \nL 101.710735 69.554361 \nL 105.334111 81.899948 \nL 108.957488 93.978825 \nL 112.580864 105.309443 \nL 116.204241 115.440089 \nL 119.827618 123.966884 \nL 123.450994 130.549892 \n\" style=\"fill:none;stroke:#1f77b4;stroke-linecap:square;stroke-width:1.5;\"/>\n   </g>\n   <g id=\"line2d_63\">\n    <path clip-path=\"url(#pff743fb5e0)\" d=\"M 54.606838 21.734435 \nL 72.723722 68.053524 \nL 90.840605 120.952157 \nL 108.957488 131.795574 \n\" style=\"fill:none;stroke:#ff7f0e;stroke-dasharray:5.55,2.4;stroke-dashoffset:0;stroke-width:1.5;\"/>\n   </g>\n   <g id=\"line2d_64\">\n    <path clip-path=\"url(#pff743fb5e0)\" d=\"M 47.360085 72.119537 \nL 50.983462 59.912146 \nL 54.606838 48.314628 \nL 58.230215 37.78934 \nL 61.853592 28.755892 \nL 65.476968 21.574419 \nL 69.100345 16.531223 \nL 72.723722 13.827361 \nL 76.347098 13.570628 \nL 79.970475 15.771258 \nL 83.593851 20.341519 \nL 87.217228 27.09921 \nL 90.840605 35.774922 \nL 94.463981 46.022783 \nL 98.087358 57.434242 \nL 101.710735 69.554361 \nL 105.334111 81.899948 \nL 108.957488 93.978825 \nL 112.580864 105.309443 \nL 116.204241 115.440089 \nL 119.827618 123.966884 \nL 123.450994 130.549892 \nL 127.074371 134.926669 \n\" style=\"fill:none;stroke:#1f77b4;stroke-linecap:square;stroke-width:1.5;\"/>\n   </g>\n   <g id=\"line2d_65\">\n    <path clip-path=\"url(#pff743fb5e0)\" d=\"M 54.606838 21.734435 \nL 72.723722 68.053524 \nL 90.840605 120.952157 \nL 108.957488 131.795574 \n\" style=\"fill:none;stroke:#ff7f0e;stroke-dasharray:5.55,2.4;stroke-dashoffset:0;stroke-width:1.5;\"/>\n   </g>\n   <g id=\"line2d_66\">\n    <path clip-path=\"url(#pff743fb5e0)\" d=\"M 47.360085 72.119537 \nL 50.983462 59.912146 \nL 54.606838 48.314628 \nL 58.230215 37.78934 \nL 61.853592 28.755892 \nL 65.476968 21.574419 \nL 69.100345 16.531223 \nL 72.723722 13.827361 \nL 76.347098 13.570628 \nL 79.970475 15.771258 \nL 83.593851 20.341519 \nL 87.217228 27.09921 \nL 90.840605 35.774922 \nL 94.463981 46.022783 \nL 98.087358 57.434242 \nL 101.710735 69.554361 \nL 105.334111 81.899948 \nL 108.957488 93.978825 \nL 112.580864 105.309443 \nL 116.204241 115.440089 \nL 119.827618 123.966884 \nL 123.450994 130.549892 \nL 127.074371 134.926669 \nL 130.697748 136.922727 \n\" style=\"fill:none;stroke:#1f77b4;stroke-linecap:square;stroke-width:1.5;\"/>\n   </g>\n   <g id=\"line2d_67\">\n    <path clip-path=\"url(#pff743fb5e0)\" d=\"M 54.606838 21.734435 \nL 72.723722 68.053524 \nL 90.840605 120.952157 \nL 108.957488 131.795574 \n\" style=\"fill:none;stroke:#ff7f0e;stroke-dasharray:5.55,2.4;stroke-dashoffset:0;stroke-width:1.5;\"/>\n   </g>\n   <g id=\"line2d_68\">\n    <path clip-path=\"url(#pff743fb5e0)\" d=\"M 47.360085 72.119537 \nL 50.983462 59.912146 \nL 54.606838 48.314628 \nL 58.230215 37.78934 \nL 61.853592 28.755892 \nL 65.476968 21.574419 \nL 69.100345 16.531223 \nL 72.723722 13.827361 \nL 76.347098 13.570628 \nL 79.970475 15.771258 \nL 83.593851 20.341519 \nL 87.217228 27.09921 \nL 90.840605 35.774922 \nL 94.463981 46.022783 \nL 98.087358 57.434242 \nL 101.710735 69.554361 \nL 105.334111 81.899948 \nL 108.957488 93.978825 \nL 112.580864 105.309443 \nL 116.204241 115.440089 \nL 119.827618 123.966884 \nL 123.450994 130.549892 \nL 127.074371 134.926669 \nL 130.697748 136.922727 \nL 134.321124 136.45849 \n\" style=\"fill:none;stroke:#1f77b4;stroke-linecap:square;stroke-width:1.5;\"/>\n   </g>\n   <g id=\"line2d_69\">\n    <path clip-path=\"url(#pff743fb5e0)\" d=\"M 54.606838 21.734435 \nL 72.723722 68.053524 \nL 90.840605 120.952157 \nL 108.957488 131.795574 \n\" style=\"fill:none;stroke:#ff7f0e;stroke-dasharray:5.55,2.4;stroke-dashoffset:0;stroke-width:1.5;\"/>\n   </g>\n   <g id=\"line2d_70\">\n    <path clip-path=\"url(#pff743fb5e0)\" d=\"M 47.360085 72.119537 \nL 50.983462 59.912146 \nL 54.606838 48.314628 \nL 58.230215 37.78934 \nL 61.853592 28.755892 \nL 65.476968 21.574419 \nL 69.100345 16.531223 \nL 72.723722 13.827361 \nL 76.347098 13.570628 \nL 79.970475 15.771258 \nL 83.593851 20.341519 \nL 87.217228 27.09921 \nL 90.840605 35.774922 \nL 94.463981 46.022783 \nL 98.087358 57.434242 \nL 101.710735 69.554361 \nL 105.334111 81.899948 \nL 108.957488 93.978825 \nL 112.580864 105.309443 \nL 116.204241 115.440089 \nL 119.827618 123.966884 \nL 123.450994 130.549892 \nL 127.074371 134.926669 \nL 130.697748 136.922727 \nL 134.321124 136.45849 \n\" style=\"fill:none;stroke:#1f77b4;stroke-linecap:square;stroke-width:1.5;\"/>\n   </g>\n   <g id=\"line2d_71\">\n    <path clip-path=\"url(#pff743fb5e0)\" d=\"M 54.606838 21.734435 \nL 72.723722 68.053524 \nL 90.840605 120.952157 \nL 108.957488 131.795574 \nL 127.074371 90.614388 \n\" style=\"fill:none;stroke:#ff7f0e;stroke-dasharray:5.55,2.4;stroke-dashoffset:0;stroke-width:1.5;\"/>\n   </g>\n   <g id=\"line2d_72\">\n    <path clip-path=\"url(#pff743fb5e0)\" d=\"M 47.360085 72.119537 \nL 50.983462 59.912146 \nL 54.606838 48.314628 \nL 58.230215 37.78934 \nL 61.853592 28.755892 \nL 65.476968 21.574419 \nL 69.100345 16.531223 \nL 72.723722 13.827361 \nL 76.347098 13.570628 \nL 79.970475 15.771258 \nL 83.593851 20.341519 \nL 87.217228 27.09921 \nL 90.840605 35.774922 \nL 94.463981 46.022783 \nL 98.087358 57.434242 \nL 101.710735 69.554361 \nL 105.334111 81.899948 \nL 108.957488 93.978825 \nL 112.580864 105.309443 \nL 116.204241 115.440089 \nL 119.827618 123.966884 \nL 123.450994 130.549892 \nL 127.074371 134.926669 \nL 130.697748 136.922727 \nL 134.321124 136.45849 \nL 137.944501 133.552465 \n\" style=\"fill:none;stroke:#1f77b4;stroke-linecap:square;stroke-width:1.5;\"/>\n   </g>\n   <g id=\"line2d_73\">\n    <path clip-path=\"url(#pff743fb5e0)\" d=\"M 54.606838 21.734435 \nL 72.723722 68.053524 \nL 90.840605 120.952157 \nL 108.957488 131.795574 \nL 127.074371 90.614388 \n\" style=\"fill:none;stroke:#ff7f0e;stroke-dasharray:5.55,2.4;stroke-dashoffset:0;stroke-width:1.5;\"/>\n   </g>\n   <g id=\"line2d_74\">\n    <path clip-path=\"url(#pff743fb5e0)\" d=\"M 47.360085 72.119537 \nL 50.983462 59.912146 \nL 54.606838 48.314628 \nL 58.230215 37.78934 \nL 61.853592 28.755892 \nL 65.476968 21.574419 \nL 69.100345 16.531223 \nL 72.723722 13.827361 \nL 76.347098 13.570628 \nL 79.970475 15.771258 \nL 83.593851 20.341519 \nL 87.217228 27.09921 \nL 90.840605 35.774922 \nL 94.463981 46.022783 \nL 98.087358 57.434242 \nL 101.710735 69.554361 \nL 105.334111 81.899948 \nL 108.957488 93.978825 \nL 112.580864 105.309443 \nL 116.204241 115.440089 \nL 119.827618 123.966884 \nL 123.450994 130.549892 \nL 127.074371 134.926669 \nL 130.697748 136.922727 \nL 134.321124 136.45849 \nL 137.944501 133.552465 \nL 141.567877 128.320507 \n\" style=\"fill:none;stroke:#1f77b4;stroke-linecap:square;stroke-width:1.5;\"/>\n   </g>\n   <g id=\"line2d_75\">\n    <path clip-path=\"url(#pff743fb5e0)\" d=\"M 54.606838 21.734435 \nL 72.723722 68.053524 \nL 90.840605 120.952157 \nL 108.957488 131.795574 \nL 127.074371 90.614388 \n\" style=\"fill:none;stroke:#ff7f0e;stroke-dasharray:5.55,2.4;stroke-dashoffset:0;stroke-width:1.5;\"/>\n   </g>\n   <g id=\"line2d_76\">\n    <path clip-path=\"url(#pff743fb5e0)\" d=\"M 47.360085 72.119537 \nL 50.983462 59.912146 \nL 54.606838 48.314628 \nL 58.230215 37.78934 \nL 61.853592 28.755892 \nL 65.476968 21.574419 \nL 69.100345 16.531223 \nL 72.723722 13.827361 \nL 76.347098 13.570628 \nL 79.970475 15.771258 \nL 83.593851 20.341519 \nL 87.217228 27.09921 \nL 90.840605 35.774922 \nL 94.463981 46.022783 \nL 98.087358 57.434242 \nL 101.710735 69.554361 \nL 105.334111 81.899948 \nL 108.957488 93.978825 \nL 112.580864 105.309443 \nL 116.204241 115.440089 \nL 119.827618 123.966884 \nL 123.450994 130.549892 \nL 127.074371 134.926669 \nL 130.697748 136.922727 \nL 134.321124 136.45849 \nL 137.944501 133.552465 \nL 141.567877 128.320507 \nL 145.191254 120.971196 \n\" style=\"fill:none;stroke:#1f77b4;stroke-linecap:square;stroke-width:1.5;\"/>\n   </g>\n   <g id=\"line2d_77\">\n    <path clip-path=\"url(#pff743fb5e0)\" d=\"M 54.606838 21.734435 \nL 72.723722 68.053524 \nL 90.840605 120.952157 \nL 108.957488 131.795574 \nL 127.074371 90.614388 \n\" style=\"fill:none;stroke:#ff7f0e;stroke-dasharray:5.55,2.4;stroke-dashoffset:0;stroke-width:1.5;\"/>\n   </g>\n   <g id=\"line2d_78\">\n    <path clip-path=\"url(#pff743fb5e0)\" d=\"M 47.360085 72.119537 \nL 50.983462 59.912146 \nL 54.606838 48.314628 \nL 58.230215 37.78934 \nL 61.853592 28.755892 \nL 65.476968 21.574419 \nL 69.100345 16.531223 \nL 72.723722 13.827361 \nL 76.347098 13.570628 \nL 79.970475 15.771258 \nL 83.593851 20.341519 \nL 87.217228 27.09921 \nL 90.840605 35.774922 \nL 94.463981 46.022783 \nL 98.087358 57.434242 \nL 101.710735 69.554361 \nL 105.334111 81.899948 \nL 108.957488 93.978825 \nL 112.580864 105.309443 \nL 116.204241 115.440089 \nL 119.827618 123.966884 \nL 123.450994 130.549892 \nL 127.074371 134.926669 \nL 130.697748 136.922727 \nL 134.321124 136.45849 \nL 137.944501 133.552465 \nL 141.567877 128.320507 \nL 145.191254 120.971196 \nL 148.814631 111.797527 \n\" style=\"fill:none;stroke:#1f77b4;stroke-linecap:square;stroke-width:1.5;\"/>\n   </g>\n   <g id=\"line2d_79\">\n    <path clip-path=\"url(#pff743fb5e0)\" d=\"M 54.606838 21.734435 \nL 72.723722 68.053524 \nL 90.840605 120.952157 \nL 108.957488 131.795574 \nL 127.074371 90.614388 \n\" style=\"fill:none;stroke:#ff7f0e;stroke-dasharray:5.55,2.4;stroke-dashoffset:0;stroke-width:1.5;\"/>\n   </g>\n   <g id=\"line2d_80\">\n    <path clip-path=\"url(#pff743fb5e0)\" d=\"M 47.360085 72.119537 \nL 50.983462 59.912146 \nL 54.606838 48.314628 \nL 58.230215 37.78934 \nL 61.853592 28.755892 \nL 65.476968 21.574419 \nL 69.100345 16.531223 \nL 72.723722 13.827361 \nL 76.347098 13.570628 \nL 79.970475 15.771258 \nL 83.593851 20.341519 \nL 87.217228 27.09921 \nL 90.840605 35.774922 \nL 94.463981 46.022783 \nL 98.087358 57.434242 \nL 101.710735 69.554361 \nL 105.334111 81.899948 \nL 108.957488 93.978825 \nL 112.580864 105.309443 \nL 116.204241 115.440089 \nL 119.827618 123.966884 \nL 123.450994 130.549892 \nL 127.074371 134.926669 \nL 130.697748 136.922727 \nL 134.321124 136.45849 \nL 137.944501 133.552465 \nL 141.567877 128.320507 \nL 145.191254 120.971196 \nL 148.814631 111.797527 \nL 152.438007 101.165225 \n\" style=\"fill:none;stroke:#1f77b4;stroke-linecap:square;stroke-width:1.5;\"/>\n   </g>\n   <g id=\"line2d_81\">\n    <path clip-path=\"url(#pff743fb5e0)\" d=\"M 54.606838 21.734435 \nL 72.723722 68.053524 \nL 90.840605 120.952157 \nL 108.957488 131.795574 \nL 127.074371 90.614388 \n\" style=\"fill:none;stroke:#ff7f0e;stroke-dasharray:5.55,2.4;stroke-dashoffset:0;stroke-width:1.5;\"/>\n   </g>\n   <g id=\"line2d_82\">\n    <path clip-path=\"url(#pff743fb5e0)\" d=\"M 47.360085 72.119537 \nL 50.983462 59.912146 \nL 54.606838 48.314628 \nL 58.230215 37.78934 \nL 61.853592 28.755892 \nL 65.476968 21.574419 \nL 69.100345 16.531223 \nL 72.723722 13.827361 \nL 76.347098 13.570628 \nL 79.970475 15.771258 \nL 83.593851 20.341519 \nL 87.217228 27.09921 \nL 90.840605 35.774922 \nL 94.463981 46.022783 \nL 98.087358 57.434242 \nL 101.710735 69.554361 \nL 105.334111 81.899948 \nL 108.957488 93.978825 \nL 112.580864 105.309443 \nL 116.204241 115.440089 \nL 119.827618 123.966884 \nL 123.450994 130.549892 \nL 127.074371 134.926669 \nL 130.697748 136.922727 \nL 134.321124 136.45849 \nL 137.944501 133.552465 \nL 141.567877 128.320507 \nL 145.191254 120.971196 \nL 148.814631 111.797527 \nL 152.438007 101.165225 \n\" style=\"fill:none;stroke:#1f77b4;stroke-linecap:square;stroke-width:1.5;\"/>\n   </g>\n   <g id=\"line2d_83\">\n    <path clip-path=\"url(#pff743fb5e0)\" d=\"M 54.606838 21.734435 \nL 72.723722 68.053524 \nL 90.840605 120.952157 \nL 108.957488 131.795574 \nL 127.074371 90.614388 \nL 145.191254 35.270391 \n\" style=\"fill:none;stroke:#ff7f0e;stroke-dasharray:5.55,2.4;stroke-dashoffset:0;stroke-width:1.5;\"/>\n   </g>\n   <g id=\"line2d_84\">\n    <path clip-path=\"url(#pff743fb5e0)\" d=\"M 47.360085 72.119537 \nL 50.983462 59.912146 \nL 54.606838 48.314628 \nL 58.230215 37.78934 \nL 61.853592 28.755892 \nL 65.476968 21.574419 \nL 69.100345 16.531223 \nL 72.723722 13.827361 \nL 76.347098 13.570628 \nL 79.970475 15.771258 \nL 83.593851 20.341519 \nL 87.217228 27.09921 \nL 90.840605 35.774922 \nL 94.463981 46.022783 \nL 98.087358 57.434242 \nL 101.710735 69.554361 \nL 105.334111 81.899948 \nL 108.957488 93.978825 \nL 112.580864 105.309443 \nL 116.204241 115.440089 \nL 119.827618 123.966884 \nL 123.450994 130.549892 \nL 127.074371 134.926669 \nL 130.697748 136.922727 \nL 134.321124 136.45849 \nL 137.944501 133.552465 \nL 141.567877 128.320507 \nL 145.191254 120.971196 \nL 148.814631 111.797527 \nL 152.438007 101.165225 \nL 156.061384 89.498166 \n\" style=\"fill:none;stroke:#1f77b4;stroke-linecap:square;stroke-width:1.5;\"/>\n   </g>\n   <g id=\"line2d_85\">\n    <path clip-path=\"url(#pff743fb5e0)\" d=\"M 54.606838 21.734435 \nL 72.723722 68.053524 \nL 90.840605 120.952157 \nL 108.957488 131.795574 \nL 127.074371 90.614388 \nL 145.191254 35.270391 \n\" style=\"fill:none;stroke:#ff7f0e;stroke-dasharray:5.55,2.4;stroke-dashoffset:0;stroke-width:1.5;\"/>\n   </g>\n   <g id=\"line2d_86\">\n    <path clip-path=\"url(#pff743fb5e0)\" d=\"M 47.360085 72.119537 \nL 50.983462 59.912146 \nL 54.606838 48.314628 \nL 58.230215 37.78934 \nL 61.853592 28.755892 \nL 65.476968 21.574419 \nL 69.100345 16.531223 \nL 72.723722 13.827361 \nL 76.347098 13.570628 \nL 79.970475 15.771258 \nL 83.593851 20.341519 \nL 87.217228 27.09921 \nL 90.840605 35.774922 \nL 94.463981 46.022783 \nL 98.087358 57.434242 \nL 101.710735 69.554361 \nL 105.334111 81.899948 \nL 108.957488 93.978825 \nL 112.580864 105.309443 \nL 116.204241 115.440089 \nL 119.827618 123.966884 \nL 123.450994 130.549892 \nL 127.074371 134.926669 \nL 130.697748 136.922727 \nL 134.321124 136.45849 \nL 137.944501 133.552465 \nL 141.567877 128.320507 \nL 145.191254 120.971196 \nL 148.814631 111.797527 \nL 152.438007 101.165225 \nL 156.061384 89.498166 \nL 159.684761 77.26148 \n\" style=\"fill:none;stroke:#1f77b4;stroke-linecap:square;stroke-width:1.5;\"/>\n   </g>\n   <g id=\"line2d_87\">\n    <path clip-path=\"url(#pff743fb5e0)\" d=\"M 54.606838 21.734435 \nL 72.723722 68.053524 \nL 90.840605 120.952157 \nL 108.957488 131.795574 \nL 127.074371 90.614388 \nL 145.191254 35.270391 \n\" style=\"fill:none;stroke:#ff7f0e;stroke-dasharray:5.55,2.4;stroke-dashoffset:0;stroke-width:1.5;\"/>\n   </g>\n   <g id=\"line2d_88\">\n    <path clip-path=\"url(#pff743fb5e0)\" d=\"M 47.360085 72.119537 \nL 50.983462 59.912146 \nL 54.606838 48.314628 \nL 58.230215 37.78934 \nL 61.853592 28.755892 \nL 65.476968 21.574419 \nL 69.100345 16.531223 \nL 72.723722 13.827361 \nL 76.347098 13.570628 \nL 79.970475 15.771258 \nL 83.593851 20.341519 \nL 87.217228 27.09921 \nL 90.840605 35.774922 \nL 94.463981 46.022783 \nL 98.087358 57.434242 \nL 101.710735 69.554361 \nL 105.334111 81.899948 \nL 108.957488 93.978825 \nL 112.580864 105.309443 \nL 116.204241 115.440089 \nL 119.827618 123.966884 \nL 123.450994 130.549892 \nL 127.074371 134.926669 \nL 130.697748 136.922727 \nL 134.321124 136.45849 \nL 137.944501 133.552465 \nL 141.567877 128.320507 \nL 145.191254 120.971196 \nL 148.814631 111.797527 \nL 152.438007 101.165225 \nL 156.061384 89.498166 \nL 159.684761 77.26148 \nL 163.308137 64.943003 \n\" style=\"fill:none;stroke:#1f77b4;stroke-linecap:square;stroke-width:1.5;\"/>\n   </g>\n   <g id=\"line2d_89\">\n    <path clip-path=\"url(#pff743fb5e0)\" d=\"M 54.606838 21.734435 \nL 72.723722 68.053524 \nL 90.840605 120.952157 \nL 108.957488 131.795574 \nL 127.074371 90.614388 \nL 145.191254 35.270391 \n\" style=\"fill:none;stroke:#ff7f0e;stroke-dasharray:5.55,2.4;stroke-dashoffset:0;stroke-width:1.5;\"/>\n   </g>\n   <g id=\"line2d_90\">\n    <path clip-path=\"url(#pff743fb5e0)\" d=\"M 47.360085 72.119537 \nL 50.983462 59.912146 \nL 54.606838 48.314628 \nL 58.230215 37.78934 \nL 61.853592 28.755892 \nL 65.476968 21.574419 \nL 69.100345 16.531223 \nL 72.723722 13.827361 \nL 76.347098 13.570628 \nL 79.970475 15.771258 \nL 83.593851 20.341519 \nL 87.217228 27.09921 \nL 90.840605 35.774922 \nL 94.463981 46.022783 \nL 98.087358 57.434242 \nL 101.710735 69.554361 \nL 105.334111 81.899948 \nL 108.957488 93.978825 \nL 112.580864 105.309443 \nL 116.204241 115.440089 \nL 119.827618 123.966884 \nL 123.450994 130.549892 \nL 127.074371 134.926669 \nL 130.697748 136.922727 \nL 134.321124 136.45849 \nL 137.944501 133.552465 \nL 141.567877 128.320507 \nL 145.191254 120.971196 \nL 148.814631 111.797527 \nL 152.438007 101.165225 \nL 156.061384 89.498166 \nL 159.684761 77.26148 \nL 163.308137 64.943003 \nL 166.931514 53.033836 \n\" style=\"fill:none;stroke:#1f77b4;stroke-linecap:square;stroke-width:1.5;\"/>\n   </g>\n   <g id=\"line2d_91\">\n    <path clip-path=\"url(#pff743fb5e0)\" d=\"M 54.606838 21.734435 \nL 72.723722 68.053524 \nL 90.840605 120.952157 \nL 108.957488 131.795574 \nL 127.074371 90.614388 \nL 145.191254 35.270391 \n\" style=\"fill:none;stroke:#ff7f0e;stroke-dasharray:5.55,2.4;stroke-dashoffset:0;stroke-width:1.5;\"/>\n   </g>\n   <g id=\"line2d_92\">\n    <path clip-path=\"url(#pff743fb5e0)\" d=\"M 47.360085 72.119537 \nL 50.983462 59.912146 \nL 54.606838 48.314628 \nL 58.230215 37.78934 \nL 61.853592 28.755892 \nL 65.476968 21.574419 \nL 69.100345 16.531223 \nL 72.723722 13.827361 \nL 76.347098 13.570628 \nL 79.970475 15.771258 \nL 83.593851 20.341519 \nL 87.217228 27.09921 \nL 90.840605 35.774922 \nL 94.463981 46.022783 \nL 98.087358 57.434242 \nL 101.710735 69.554361 \nL 105.334111 81.899948 \nL 108.957488 93.978825 \nL 112.580864 105.309443 \nL 116.204241 115.440089 \nL 119.827618 123.966884 \nL 123.450994 130.549892 \nL 127.074371 134.926669 \nL 130.697748 136.922727 \nL 134.321124 136.45849 \nL 137.944501 133.552465 \nL 141.567877 128.320507 \nL 145.191254 120.971196 \nL 148.814631 111.797527 \nL 152.438007 101.165225 \nL 156.061384 89.498166 \nL 159.684761 77.26148 \nL 163.308137 64.943003 \nL 166.931514 53.033836 \nL 170.55489 42.008758 \n\" style=\"fill:none;stroke:#1f77b4;stroke-linecap:square;stroke-width:1.5;\"/>\n   </g>\n   <g id=\"line2d_93\">\n    <path clip-path=\"url(#pff743fb5e0)\" d=\"M 54.606838 21.734435 \nL 72.723722 68.053524 \nL 90.840605 120.952157 \nL 108.957488 131.795574 \nL 127.074371 90.614388 \nL 145.191254 35.270391 \n\" style=\"fill:none;stroke:#ff7f0e;stroke-dasharray:5.55,2.4;stroke-dashoffset:0;stroke-width:1.5;\"/>\n   </g>\n   <g id=\"line2d_94\">\n    <path clip-path=\"url(#pff743fb5e0)\" d=\"M 47.360085 72.119537 \nL 50.983462 59.912146 \nL 54.606838 48.314628 \nL 58.230215 37.78934 \nL 61.853592 28.755892 \nL 65.476968 21.574419 \nL 69.100345 16.531223 \nL 72.723722 13.827361 \nL 76.347098 13.570628 \nL 79.970475 15.771258 \nL 83.593851 20.341519 \nL 87.217228 27.09921 \nL 90.840605 35.774922 \nL 94.463981 46.022783 \nL 98.087358 57.434242 \nL 101.710735 69.554361 \nL 105.334111 81.899948 \nL 108.957488 93.978825 \nL 112.580864 105.309443 \nL 116.204241 115.440089 \nL 119.827618 123.966884 \nL 123.450994 130.549892 \nL 127.074371 134.926669 \nL 130.697748 136.922727 \nL 134.321124 136.45849 \nL 137.944501 133.552465 \nL 141.567877 128.320507 \nL 145.191254 120.971196 \nL 148.814631 111.797527 \nL 152.438007 101.165225 \nL 156.061384 89.498166 \nL 159.684761 77.26148 \nL 163.308137 64.943003 \nL 166.931514 53.033836 \nL 170.55489 42.008758 \n\" style=\"fill:none;stroke:#1f77b4;stroke-linecap:square;stroke-width:1.5;\"/>\n   </g>\n   <g id=\"line2d_95\">\n    <path clip-path=\"url(#pff743fb5e0)\" d=\"M 54.606838 21.734435 \nL 72.723722 68.053524 \nL 90.840605 120.952157 \nL 108.957488 131.795574 \nL 127.074371 90.614388 \nL 145.191254 35.270391 \nL 163.308137 16.646599 \n\" style=\"fill:none;stroke:#ff7f0e;stroke-dasharray:5.55,2.4;stroke-dashoffset:0;stroke-width:1.5;\"/>\n   </g>\n   <g id=\"line2d_96\">\n    <path clip-path=\"url(#pff743fb5e0)\" d=\"M 47.360085 72.119537 \nL 50.983462 59.912146 \nL 54.606838 48.314628 \nL 58.230215 37.78934 \nL 61.853592 28.755892 \nL 65.476968 21.574419 \nL 69.100345 16.531223 \nL 72.723722 13.827361 \nL 76.347098 13.570628 \nL 79.970475 15.771258 \nL 83.593851 20.341519 \nL 87.217228 27.09921 \nL 90.840605 35.774922 \nL 94.463981 46.022783 \nL 98.087358 57.434242 \nL 101.710735 69.554361 \nL 105.334111 81.899948 \nL 108.957488 93.978825 \nL 112.580864 105.309443 \nL 116.204241 115.440089 \nL 119.827618 123.966884 \nL 123.450994 130.549892 \nL 127.074371 134.926669 \nL 130.697748 136.922727 \nL 134.321124 136.45849 \nL 137.944501 133.552465 \nL 141.567877 128.320507 \nL 145.191254 120.971196 \nL 148.814631 111.797527 \nL 152.438007 101.165225 \nL 156.061384 89.498166 \nL 159.684761 77.26148 \nL 163.308137 64.943003 \nL 166.931514 53.033836 \nL 170.55489 42.008758 \nL 174.178267 32.307306 \n\" style=\"fill:none;stroke:#1f77b4;stroke-linecap:square;stroke-width:1.5;\"/>\n   </g>\n   <g id=\"line2d_97\">\n    <path clip-path=\"url(#pff743fb5e0)\" d=\"M 54.606838 21.734435 \nL 72.723722 68.053524 \nL 90.840605 120.952157 \nL 108.957488 131.795574 \nL 127.074371 90.614388 \nL 145.191254 35.270391 \nL 163.308137 16.646599 \n\" style=\"fill:none;stroke:#ff7f0e;stroke-dasharray:5.55,2.4;stroke-dashoffset:0;stroke-width:1.5;\"/>\n   </g>\n   <g id=\"line2d_98\">\n    <path clip-path=\"url(#pff743fb5e0)\" d=\"M 47.360085 72.119537 \nL 50.983462 59.912146 \nL 54.606838 48.314628 \nL 58.230215 37.78934 \nL 61.853592 28.755892 \nL 65.476968 21.574419 \nL 69.100345 16.531223 \nL 72.723722 13.827361 \nL 76.347098 13.570628 \nL 79.970475 15.771258 \nL 83.593851 20.341519 \nL 87.217228 27.09921 \nL 90.840605 35.774922 \nL 94.463981 46.022783 \nL 98.087358 57.434242 \nL 101.710735 69.554361 \nL 105.334111 81.899948 \nL 108.957488 93.978825 \nL 112.580864 105.309443 \nL 116.204241 115.440089 \nL 119.827618 123.966884 \nL 123.450994 130.549892 \nL 127.074371 134.926669 \nL 130.697748 136.922727 \nL 134.321124 136.45849 \nL 137.944501 133.552465 \nL 141.567877 128.320507 \nL 145.191254 120.971196 \nL 148.814631 111.797527 \nL 152.438007 101.165225 \nL 156.061384 89.498166 \nL 159.684761 77.26148 \nL 163.308137 64.943003 \nL 166.931514 53.033836 \nL 170.55489 42.008758 \nL 174.178267 32.307306 \nL 177.801644 24.316244 \n\" style=\"fill:none;stroke:#1f77b4;stroke-linecap:square;stroke-width:1.5;\"/>\n   </g>\n   <g id=\"line2d_99\">\n    <path clip-path=\"url(#pff743fb5e0)\" d=\"M 54.606838 21.734435 \nL 72.723722 68.053524 \nL 90.840605 120.952157 \nL 108.957488 131.795574 \nL 127.074371 90.614388 \nL 145.191254 35.270391 \nL 163.308137 16.646599 \n\" style=\"fill:none;stroke:#ff7f0e;stroke-dasharray:5.55,2.4;stroke-dashoffset:0;stroke-width:1.5;\"/>\n   </g>\n   <g id=\"line2d_100\">\n    <path clip-path=\"url(#pff743fb5e0)\" d=\"M 47.360085 72.119537 \nL 50.983462 59.912146 \nL 54.606838 48.314628 \nL 58.230215 37.78934 \nL 61.853592 28.755892 \nL 65.476968 21.574419 \nL 69.100345 16.531223 \nL 72.723722 13.827361 \nL 76.347098 13.570628 \nL 79.970475 15.771258 \nL 83.593851 20.341519 \nL 87.217228 27.09921 \nL 90.840605 35.774922 \nL 94.463981 46.022783 \nL 98.087358 57.434242 \nL 101.710735 69.554361 \nL 105.334111 81.899948 \nL 108.957488 93.978825 \nL 112.580864 105.309443 \nL 116.204241 115.440089 \nL 119.827618 123.966884 \nL 123.450994 130.549892 \nL 127.074371 134.926669 \nL 130.697748 136.922727 \nL 134.321124 136.45849 \nL 137.944501 133.552465 \nL 141.567877 128.320507 \nL 145.191254 120.971196 \nL 148.814631 111.797527 \nL 152.438007 101.165225 \nL 156.061384 89.498166 \nL 159.684761 77.26148 \nL 163.308137 64.943003 \nL 166.931514 53.033836 \nL 170.55489 42.008758 \nL 174.178267 32.307306 \nL 177.801644 24.316244 \nL 181.42502 18.354153 \n\" style=\"fill:none;stroke:#1f77b4;stroke-linecap:square;stroke-width:1.5;\"/>\n   </g>\n   <g id=\"line2d_101\">\n    <path clip-path=\"url(#pff743fb5e0)\" d=\"M 54.606838 21.734435 \nL 72.723722 68.053524 \nL 90.840605 120.952157 \nL 108.957488 131.795574 \nL 127.074371 90.614388 \nL 145.191254 35.270391 \nL 163.308137 16.646599 \n\" style=\"fill:none;stroke:#ff7f0e;stroke-dasharray:5.55,2.4;stroke-dashoffset:0;stroke-width:1.5;\"/>\n   </g>\n   <g id=\"line2d_102\">\n    <path clip-path=\"url(#pff743fb5e0)\" d=\"M 47.360085 72.119537 \nL 50.983462 59.912146 \nL 54.606838 48.314628 \nL 58.230215 37.78934 \nL 61.853592 28.755892 \nL 65.476968 21.574419 \nL 69.100345 16.531223 \nL 72.723722 13.827361 \nL 76.347098 13.570628 \nL 79.970475 15.771258 \nL 83.593851 20.341519 \nL 87.217228 27.09921 \nL 90.840605 35.774922 \nL 94.463981 46.022783 \nL 98.087358 57.434242 \nL 101.710735 69.554361 \nL 105.334111 81.899948 \nL 108.957488 93.978825 \nL 112.580864 105.309443 \nL 116.204241 115.440089 \nL 119.827618 123.966884 \nL 123.450994 130.549892 \nL 127.074371 134.926669 \nL 130.697748 136.922727 \nL 134.321124 136.45849 \nL 137.944501 133.552465 \nL 141.567877 128.320507 \nL 145.191254 120.971196 \nL 148.814631 111.797527 \nL 152.438007 101.165225 \nL 156.061384 89.498166 \nL 159.684761 77.26148 \nL 163.308137 64.943003 \nL 166.931514 53.033836 \nL 170.55489 42.008758 \nL 174.178267 32.307306 \nL 177.801644 24.316244 \nL 181.42502 18.354153 \nL 185.048397 14.65872 \n\" style=\"fill:none;stroke:#1f77b4;stroke-linecap:square;stroke-width:1.5;\"/>\n   </g>\n   <g id=\"line2d_103\">\n    <path clip-path=\"url(#pff743fb5e0)\" d=\"M 54.606838 21.734435 \nL 72.723722 68.053524 \nL 90.840605 120.952157 \nL 108.957488 131.795574 \nL 127.074371 90.614388 \nL 145.191254 35.270391 \nL 163.308137 16.646599 \n\" style=\"fill:none;stroke:#ff7f0e;stroke-dasharray:5.55,2.4;stroke-dashoffset:0;stroke-width:1.5;\"/>\n   </g>\n   <g id=\"line2d_104\">\n    <path clip-path=\"url(#pff743fb5e0)\" d=\"M 47.360085 72.119537 \nL 50.983462 59.912146 \nL 54.606838 48.314628 \nL 58.230215 37.78934 \nL 61.853592 28.755892 \nL 65.476968 21.574419 \nL 69.100345 16.531223 \nL 72.723722 13.827361 \nL 76.347098 13.570628 \nL 79.970475 15.771258 \nL 83.593851 20.341519 \nL 87.217228 27.09921 \nL 90.840605 35.774922 \nL 94.463981 46.022783 \nL 98.087358 57.434242 \nL 101.710735 69.554361 \nL 105.334111 81.899948 \nL 108.957488 93.978825 \nL 112.580864 105.309443 \nL 116.204241 115.440089 \nL 119.827618 123.966884 \nL 123.450994 130.549892 \nL 127.074371 134.926669 \nL 130.697748 136.922727 \nL 134.321124 136.45849 \nL 137.944501 133.552465 \nL 141.567877 128.320507 \nL 145.191254 120.971196 \nL 148.814631 111.797527 \nL 152.438007 101.165225 \nL 156.061384 89.498166 \nL 159.684761 77.26148 \nL 163.308137 64.943003 \nL 166.931514 53.033836 \nL 170.55489 42.008758 \nL 174.178267 32.307306 \nL 177.801644 24.316244 \nL 181.42502 18.354153 \nL 185.048397 14.65872 \nL 188.671774 13.377273 \n\" style=\"fill:none;stroke:#1f77b4;stroke-linecap:square;stroke-width:1.5;\"/>\n   </g>\n   <g id=\"line2d_105\">\n    <path clip-path=\"url(#pff743fb5e0)\" d=\"M 54.606838 21.734435 \nL 72.723722 68.053524 \nL 90.840605 120.952157 \nL 108.957488 131.795574 \nL 127.074371 90.614388 \nL 145.191254 35.270391 \nL 163.308137 16.646599 \n\" style=\"fill:none;stroke:#ff7f0e;stroke-dasharray:5.55,2.4;stroke-dashoffset:0;stroke-width:1.5;\"/>\n   </g>\n   <g id=\"line2d_106\">\n    <path clip-path=\"url(#pff743fb5e0)\" d=\"M 47.360085 72.119537 \nL 50.983462 59.912146 \nL 54.606838 48.314628 \nL 58.230215 37.78934 \nL 61.853592 28.755892 \nL 65.476968 21.574419 \nL 69.100345 16.531223 \nL 72.723722 13.827361 \nL 76.347098 13.570628 \nL 79.970475 15.771258 \nL 83.593851 20.341519 \nL 87.217228 27.09921 \nL 90.840605 35.774922 \nL 94.463981 46.022783 \nL 98.087358 57.434242 \nL 101.710735 69.554361 \nL 105.334111 81.899948 \nL 108.957488 93.978825 \nL 112.580864 105.309443 \nL 116.204241 115.440089 \nL 119.827618 123.966884 \nL 123.450994 130.549892 \nL 127.074371 134.926669 \nL 130.697748 136.922727 \nL 134.321124 136.45849 \nL 137.944501 133.552465 \nL 141.567877 128.320507 \nL 145.191254 120.971196 \nL 148.814631 111.797527 \nL 152.438007 101.165225 \nL 156.061384 89.498166 \nL 159.684761 77.26148 \nL 163.308137 64.943003 \nL 166.931514 53.033836 \nL 170.55489 42.008758 \nL 174.178267 32.307306 \nL 177.801644 24.316244 \nL 181.42502 18.354153 \nL 185.048397 14.65872 \nL 188.671774 13.377273 \n\" style=\"fill:none;stroke:#1f77b4;stroke-linecap:square;stroke-width:1.5;\"/>\n   </g>\n   <g id=\"line2d_107\">\n    <path clip-path=\"url(#pff743fb5e0)\" d=\"M 54.606838 21.734435 \nL 72.723722 68.053524 \nL 90.840605 120.952157 \nL 108.957488 131.795574 \nL 127.074371 90.614388 \nL 145.191254 35.270391 \nL 163.308137 16.646599 \nL 181.42502 51.865641 \n\" style=\"fill:none;stroke:#ff7f0e;stroke-dasharray:5.55,2.4;stroke-dashoffset:0;stroke-width:1.5;\"/>\n   </g>\n   <g id=\"line2d_108\">\n    <path clip-path=\"url(#pff743fb5e0)\" d=\"M 47.360085 72.119537 \nL 50.983462 59.912146 \nL 54.606838 48.314628 \nL 58.230215 37.78934 \nL 61.853592 28.755892 \nL 65.476968 21.574419 \nL 69.100345 16.531223 \nL 72.723722 13.827361 \nL 76.347098 13.570628 \nL 79.970475 15.771258 \nL 83.593851 20.341519 \nL 87.217228 27.09921 \nL 90.840605 35.774922 \nL 94.463981 46.022783 \nL 98.087358 57.434242 \nL 101.710735 69.554361 \nL 105.334111 81.899948 \nL 108.957488 93.978825 \nL 112.580864 105.309443 \nL 116.204241 115.440089 \nL 119.827618 123.966884 \nL 123.450994 130.549892 \nL 127.074371 134.926669 \nL 130.697748 136.922727 \nL 134.321124 136.45849 \nL 137.944501 133.552465 \nL 141.567877 128.320507 \nL 145.191254 120.971196 \nL 148.814631 111.797527 \nL 152.438007 101.165225 \nL 156.061384 89.498166 \nL 159.684761 77.26148 \nL 163.308137 64.943003 \nL 166.931514 53.033836 \nL 170.55489 42.008758 \nL 174.178267 32.307306 \nL 177.801644 24.316244 \nL 181.42502 18.354153 \nL 185.048397 14.65872 \nL 188.671774 13.377273 \nL 192.29515 14.560897 \n\" style=\"fill:none;stroke:#1f77b4;stroke-linecap:square;stroke-width:1.5;\"/>\n   </g>\n   <g id=\"line2d_109\">\n    <path clip-path=\"url(#pff743fb5e0)\" d=\"M 54.606838 21.734435 \nL 72.723722 68.053524 \nL 90.840605 120.952157 \nL 108.957488 131.795574 \nL 127.074371 90.614388 \nL 145.191254 35.270391 \nL 163.308137 16.646599 \nL 181.42502 51.865641 \n\" style=\"fill:none;stroke:#ff7f0e;stroke-dasharray:5.55,2.4;stroke-dashoffset:0;stroke-width:1.5;\"/>\n   </g>\n   <g id=\"line2d_110\">\n    <path clip-path=\"url(#pff743fb5e0)\" d=\"M 47.360085 72.119537 \nL 50.983462 59.912146 \nL 54.606838 48.314628 \nL 58.230215 37.78934 \nL 61.853592 28.755892 \nL 65.476968 21.574419 \nL 69.100345 16.531223 \nL 72.723722 13.827361 \nL 76.347098 13.570628 \nL 79.970475 15.771258 \nL 83.593851 20.341519 \nL 87.217228 27.09921 \nL 90.840605 35.774922 \nL 94.463981 46.022783 \nL 98.087358 57.434242 \nL 101.710735 69.554361 \nL 105.334111 81.899948 \nL 108.957488 93.978825 \nL 112.580864 105.309443 \nL 116.204241 115.440089 \nL 119.827618 123.966884 \nL 123.450994 130.549892 \nL 127.074371 134.926669 \nL 130.697748 136.922727 \nL 134.321124 136.45849 \nL 137.944501 133.552465 \nL 141.567877 128.320507 \nL 145.191254 120.971196 \nL 148.814631 111.797527 \nL 152.438007 101.165225 \nL 156.061384 89.498166 \nL 159.684761 77.26148 \nL 163.308137 64.943003 \nL 166.931514 53.033836 \nL 170.55489 42.008758 \nL 174.178267 32.307306 \nL 177.801644 24.316244 \nL 181.42502 18.354153 \nL 185.048397 14.65872 \nL 188.671774 13.377273 \nL 192.29515 14.560897 \nL 195.918527 18.162406 \n\" style=\"fill:none;stroke:#1f77b4;stroke-linecap:square;stroke-width:1.5;\"/>\n   </g>\n   <g id=\"line2d_111\">\n    <path clip-path=\"url(#pff743fb5e0)\" d=\"M 54.606838 21.734435 \nL 72.723722 68.053524 \nL 90.840605 120.952157 \nL 108.957488 131.795574 \nL 127.074371 90.614388 \nL 145.191254 35.270391 \nL 163.308137 16.646599 \nL 181.42502 51.865641 \n\" style=\"fill:none;stroke:#ff7f0e;stroke-dasharray:5.55,2.4;stroke-dashoffset:0;stroke-width:1.5;\"/>\n   </g>\n   <g id=\"line2d_112\">\n    <path clip-path=\"url(#pff743fb5e0)\" d=\"M 47.360085 72.119537 \nL 50.983462 59.912146 \nL 54.606838 48.314628 \nL 58.230215 37.78934 \nL 61.853592 28.755892 \nL 65.476968 21.574419 \nL 69.100345 16.531223 \nL 72.723722 13.827361 \nL 76.347098 13.570628 \nL 79.970475 15.771258 \nL 83.593851 20.341519 \nL 87.217228 27.09921 \nL 90.840605 35.774922 \nL 94.463981 46.022783 \nL 98.087358 57.434242 \nL 101.710735 69.554361 \nL 105.334111 81.899948 \nL 108.957488 93.978825 \nL 112.580864 105.309443 \nL 116.204241 115.440089 \nL 119.827618 123.966884 \nL 123.450994 130.549892 \nL 127.074371 134.926669 \nL 130.697748 136.922727 \nL 134.321124 136.45849 \nL 137.944501 133.552465 \nL 141.567877 128.320507 \nL 145.191254 120.971196 \nL 148.814631 111.797527 \nL 152.438007 101.165225 \nL 156.061384 89.498166 \nL 159.684761 77.26148 \nL 163.308137 64.943003 \nL 166.931514 53.033836 \nL 170.55489 42.008758 \nL 174.178267 32.307306 \nL 177.801644 24.316244 \nL 181.42502 18.354153 \nL 185.048397 14.65872 \nL 188.671774 13.377273 \nL 192.29515 14.560897 \nL 195.918527 18.162406 \nL 199.541903 24.038219 \n\" style=\"fill:none;stroke:#1f77b4;stroke-linecap:square;stroke-width:1.5;\"/>\n   </g>\n   <g id=\"line2d_113\">\n    <path clip-path=\"url(#pff743fb5e0)\" d=\"M 54.606838 21.734435 \nL 72.723722 68.053524 \nL 90.840605 120.952157 \nL 108.957488 131.795574 \nL 127.074371 90.614388 \nL 145.191254 35.270391 \nL 163.308137 16.646599 \nL 181.42502 51.865641 \n\" style=\"fill:none;stroke:#ff7f0e;stroke-dasharray:5.55,2.4;stroke-dashoffset:0;stroke-width:1.5;\"/>\n   </g>\n   <g id=\"line2d_114\">\n    <path clip-path=\"url(#pff743fb5e0)\" d=\"M 47.360085 72.119537 \nL 50.983462 59.912146 \nL 54.606838 48.314628 \nL 58.230215 37.78934 \nL 61.853592 28.755892 \nL 65.476968 21.574419 \nL 69.100345 16.531223 \nL 72.723722 13.827361 \nL 76.347098 13.570628 \nL 79.970475 15.771258 \nL 83.593851 20.341519 \nL 87.217228 27.09921 \nL 90.840605 35.774922 \nL 94.463981 46.022783 \nL 98.087358 57.434242 \nL 101.710735 69.554361 \nL 105.334111 81.899948 \nL 108.957488 93.978825 \nL 112.580864 105.309443 \nL 116.204241 115.440089 \nL 119.827618 123.966884 \nL 123.450994 130.549892 \nL 127.074371 134.926669 \nL 130.697748 136.922727 \nL 134.321124 136.45849 \nL 137.944501 133.552465 \nL 141.567877 128.320507 \nL 145.191254 120.971196 \nL 148.814631 111.797527 \nL 152.438007 101.165225 \nL 156.061384 89.498166 \nL 159.684761 77.26148 \nL 163.308137 64.943003 \nL 166.931514 53.033836 \nL 170.55489 42.008758 \nL 174.178267 32.307306 \nL 177.801644 24.316244 \nL 181.42502 18.354153 \nL 185.048397 14.65872 \nL 188.671774 13.377273 \nL 192.29515 14.560897 \nL 195.918527 18.162406 \nL 199.541903 24.038219 \nL 203.16528 31.954085 \n\" style=\"fill:none;stroke:#1f77b4;stroke-linecap:square;stroke-width:1.5;\"/>\n   </g>\n   <g id=\"line2d_115\">\n    <path clip-path=\"url(#pff743fb5e0)\" d=\"M 54.606838 21.734435 \nL 72.723722 68.053524 \nL 90.840605 120.952157 \nL 108.957488 131.795574 \nL 127.074371 90.614388 \nL 145.191254 35.270391 \nL 163.308137 16.646599 \nL 181.42502 51.865641 \n\" style=\"fill:none;stroke:#ff7f0e;stroke-dasharray:5.55,2.4;stroke-dashoffset:0;stroke-width:1.5;\"/>\n   </g>\n   <g id=\"line2d_116\">\n    <path clip-path=\"url(#pff743fb5e0)\" d=\"M 47.360085 72.119537 \nL 50.983462 59.912146 \nL 54.606838 48.314628 \nL 58.230215 37.78934 \nL 61.853592 28.755892 \nL 65.476968 21.574419 \nL 69.100345 16.531223 \nL 72.723722 13.827361 \nL 76.347098 13.570628 \nL 79.970475 15.771258 \nL 83.593851 20.341519 \nL 87.217228 27.09921 \nL 90.840605 35.774922 \nL 94.463981 46.022783 \nL 98.087358 57.434242 \nL 101.710735 69.554361 \nL 105.334111 81.899948 \nL 108.957488 93.978825 \nL 112.580864 105.309443 \nL 116.204241 115.440089 \nL 119.827618 123.966884 \nL 123.450994 130.549892 \nL 127.074371 134.926669 \nL 130.697748 136.922727 \nL 134.321124 136.45849 \nL 137.944501 133.552465 \nL 141.567877 128.320507 \nL 145.191254 120.971196 \nL 148.814631 111.797527 \nL 152.438007 101.165225 \nL 156.061384 89.498166 \nL 159.684761 77.26148 \nL 163.308137 64.943003 \nL 166.931514 53.033836 \nL 170.55489 42.008758 \nL 174.178267 32.307306 \nL 177.801644 24.316244 \nL 181.42502 18.354153 \nL 185.048397 14.65872 \nL 188.671774 13.377273 \nL 192.29515 14.560897 \nL 195.918527 18.162406 \nL 199.541903 24.038219 \nL 203.16528 31.954085 \nL 206.788657 41.594424 \n\" style=\"fill:none;stroke:#1f77b4;stroke-linecap:square;stroke-width:1.5;\"/>\n   </g>\n   <g id=\"line2d_117\">\n    <path clip-path=\"url(#pff743fb5e0)\" d=\"M 54.606838 21.734435 \nL 72.723722 68.053524 \nL 90.840605 120.952157 \nL 108.957488 131.795574 \nL 127.074371 90.614388 \nL 145.191254 35.270391 \nL 163.308137 16.646599 \nL 181.42502 51.865641 \n\" style=\"fill:none;stroke:#ff7f0e;stroke-dasharray:5.55,2.4;stroke-dashoffset:0;stroke-width:1.5;\"/>\n   </g>\n   <g id=\"line2d_118\">\n    <path clip-path=\"url(#pff743fb5e0)\" d=\"M 47.360085 72.119537 \nL 50.983462 59.912146 \nL 54.606838 48.314628 \nL 58.230215 37.78934 \nL 61.853592 28.755892 \nL 65.476968 21.574419 \nL 69.100345 16.531223 \nL 72.723722 13.827361 \nL 76.347098 13.570628 \nL 79.970475 15.771258 \nL 83.593851 20.341519 \nL 87.217228 27.09921 \nL 90.840605 35.774922 \nL 94.463981 46.022783 \nL 98.087358 57.434242 \nL 101.710735 69.554361 \nL 105.334111 81.899948 \nL 108.957488 93.978825 \nL 112.580864 105.309443 \nL 116.204241 115.440089 \nL 119.827618 123.966884 \nL 123.450994 130.549892 \nL 127.074371 134.926669 \nL 130.697748 136.922727 \nL 134.321124 136.45849 \nL 137.944501 133.552465 \nL 141.567877 128.320507 \nL 145.191254 120.971196 \nL 148.814631 111.797527 \nL 152.438007 101.165225 \nL 156.061384 89.498166 \nL 159.684761 77.26148 \nL 163.308137 64.943003 \nL 166.931514 53.033836 \nL 170.55489 42.008758 \nL 174.178267 32.307306 \nL 177.801644 24.316244 \nL 181.42502 18.354153 \nL 185.048397 14.65872 \nL 188.671774 13.377273 \nL 192.29515 14.560897 \nL 195.918527 18.162406 \nL 199.541903 24.038219 \nL 203.16528 31.954085 \nL 206.788657 41.594424 \n\" style=\"fill:none;stroke:#1f77b4;stroke-linecap:square;stroke-width:1.5;\"/>\n   </g>\n   <g id=\"line2d_119\">\n    <path clip-path=\"url(#pff743fb5e0)\" d=\"M 54.606838 21.734435 \nL 72.723722 68.053524 \nL 90.840605 120.952157 \nL 108.957488 131.795574 \nL 127.074371 90.614388 \nL 145.191254 35.270391 \nL 163.308137 16.646599 \nL 181.42502 51.865641 \nL 199.541903 108.547291 \n\" style=\"fill:none;stroke:#ff7f0e;stroke-dasharray:5.55,2.4;stroke-dashoffset:0;stroke-width:1.5;\"/>\n   </g>\n   <g id=\"line2d_120\">\n    <path clip-path=\"url(#pff743fb5e0)\" d=\"M 47.360085 72.119537 \nL 50.983462 59.912146 \nL 54.606838 48.314628 \nL 58.230215 37.78934 \nL 61.853592 28.755892 \nL 65.476968 21.574419 \nL 69.100345 16.531223 \nL 72.723722 13.827361 \nL 76.347098 13.570628 \nL 79.970475 15.771258 \nL 83.593851 20.341519 \nL 87.217228 27.09921 \nL 90.840605 35.774922 \nL 94.463981 46.022783 \nL 98.087358 57.434242 \nL 101.710735 69.554361 \nL 105.334111 81.899948 \nL 108.957488 93.978825 \nL 112.580864 105.309443 \nL 116.204241 115.440089 \nL 119.827618 123.966884 \nL 123.450994 130.549892 \nL 127.074371 134.926669 \nL 130.697748 136.922727 \nL 134.321124 136.45849 \nL 137.944501 133.552465 \nL 141.567877 128.320507 \nL 145.191254 120.971196 \nL 148.814631 111.797527 \nL 152.438007 101.165225 \nL 156.061384 89.498166 \nL 159.684761 77.26148 \nL 163.308137 64.943003 \nL 166.931514 53.033836 \nL 170.55489 42.008758 \nL 174.178267 32.307306 \nL 177.801644 24.316244 \nL 181.42502 18.354153 \nL 185.048397 14.65872 \nL 188.671774 13.377273 \nL 192.29515 14.560897 \nL 195.918527 18.162406 \nL 199.541903 24.038219 \nL 203.16528 31.954085 \nL 206.788657 41.594424 \nL 210.412033 52.574907 \n\" style=\"fill:none;stroke:#1f77b4;stroke-linecap:square;stroke-width:1.5;\"/>\n   </g>\n   <g id=\"line2d_121\">\n    <path clip-path=\"url(#pff743fb5e0)\" d=\"M 54.606838 21.734435 \nL 72.723722 68.053524 \nL 90.840605 120.952157 \nL 108.957488 131.795574 \nL 127.074371 90.614388 \nL 145.191254 35.270391 \nL 163.308137 16.646599 \nL 181.42502 51.865641 \nL 199.541903 108.547291 \n\" style=\"fill:none;stroke:#ff7f0e;stroke-dasharray:5.55,2.4;stroke-dashoffset:0;stroke-width:1.5;\"/>\n   </g>\n   <g id=\"line2d_122\">\n    <path clip-path=\"url(#pff743fb5e0)\" d=\"M 47.360085 72.119537 \nL 50.983462 59.912146 \nL 54.606838 48.314628 \nL 58.230215 37.78934 \nL 61.853592 28.755892 \nL 65.476968 21.574419 \nL 69.100345 16.531223 \nL 72.723722 13.827361 \nL 76.347098 13.570628 \nL 79.970475 15.771258 \nL 83.593851 20.341519 \nL 87.217228 27.09921 \nL 90.840605 35.774922 \nL 94.463981 46.022783 \nL 98.087358 57.434242 \nL 101.710735 69.554361 \nL 105.334111 81.899948 \nL 108.957488 93.978825 \nL 112.580864 105.309443 \nL 116.204241 115.440089 \nL 119.827618 123.966884 \nL 123.450994 130.549892 \nL 127.074371 134.926669 \nL 130.697748 136.922727 \nL 134.321124 136.45849 \nL 137.944501 133.552465 \nL 141.567877 128.320507 \nL 145.191254 120.971196 \nL 148.814631 111.797527 \nL 152.438007 101.165225 \nL 156.061384 89.498166 \nL 159.684761 77.26148 \nL 163.308137 64.943003 \nL 166.931514 53.033836 \nL 170.55489 42.008758 \nL 174.178267 32.307306 \nL 177.801644 24.316244 \nL 181.42502 18.354153 \nL 185.048397 14.65872 \nL 188.671774 13.377273 \nL 192.29515 14.560897 \nL 195.918527 18.162406 \nL 199.541903 24.038219 \nL 203.16528 31.954085 \nL 206.788657 41.594424 \nL 210.412033 52.574907 \nL 214.03541 64.457775 \n\" style=\"fill:none;stroke:#1f77b4;stroke-linecap:square;stroke-width:1.5;\"/>\n   </g>\n   <g id=\"line2d_123\">\n    <path clip-path=\"url(#pff743fb5e0)\" d=\"M 54.606838 21.734435 \nL 72.723722 68.053524 \nL 90.840605 120.952157 \nL 108.957488 131.795574 \nL 127.074371 90.614388 \nL 145.191254 35.270391 \nL 163.308137 16.646599 \nL 181.42502 51.865641 \nL 199.541903 108.547291 \n\" style=\"fill:none;stroke:#ff7f0e;stroke-dasharray:5.55,2.4;stroke-dashoffset:0;stroke-width:1.5;\"/>\n   </g>\n   <g id=\"line2d_124\">\n    <path clip-path=\"url(#pff743fb5e0)\" d=\"M 47.360085 72.119537 \nL 50.983462 59.912146 \nL 54.606838 48.314628 \nL 58.230215 37.78934 \nL 61.853592 28.755892 \nL 65.476968 21.574419 \nL 69.100345 16.531223 \nL 72.723722 13.827361 \nL 76.347098 13.570628 \nL 79.970475 15.771258 \nL 83.593851 20.341519 \nL 87.217228 27.09921 \nL 90.840605 35.774922 \nL 94.463981 46.022783 \nL 98.087358 57.434242 \nL 101.710735 69.554361 \nL 105.334111 81.899948 \nL 108.957488 93.978825 \nL 112.580864 105.309443 \nL 116.204241 115.440089 \nL 119.827618 123.966884 \nL 123.450994 130.549892 \nL 127.074371 134.926669 \nL 130.697748 136.922727 \nL 134.321124 136.45849 \nL 137.944501 133.552465 \nL 141.567877 128.320507 \nL 145.191254 120.971196 \nL 148.814631 111.797527 \nL 152.438007 101.165225 \nL 156.061384 89.498166 \nL 159.684761 77.26148 \nL 163.308137 64.943003 \nL 166.931514 53.033836 \nL 170.55489 42.008758 \nL 174.178267 32.307306 \nL 177.801644 24.316244 \nL 181.42502 18.354153 \nL 185.048397 14.65872 \nL 188.671774 13.377273 \nL 192.29515 14.560897 \nL 195.918527 18.162406 \nL 199.541903 24.038219 \nL 203.16528 31.954085 \nL 206.788657 41.594424 \nL 210.412033 52.574907 \nL 214.03541 64.457775 \nL 217.658787 76.769297 \n\" style=\"fill:none;stroke:#1f77b4;stroke-linecap:square;stroke-width:1.5;\"/>\n   </g>\n   <g id=\"line2d_125\">\n    <path clip-path=\"url(#pff743fb5e0)\" d=\"M 54.606838 21.734435 \nL 72.723722 68.053524 \nL 90.840605 120.952157 \nL 108.957488 131.795574 \nL 127.074371 90.614388 \nL 145.191254 35.270391 \nL 163.308137 16.646599 \nL 181.42502 51.865641 \nL 199.541903 108.547291 \n\" style=\"fill:none;stroke:#ff7f0e;stroke-dasharray:5.55,2.4;stroke-dashoffset:0;stroke-width:1.5;\"/>\n   </g>\n   <g id=\"line2d_126\">\n    <path clip-path=\"url(#pff743fb5e0)\" d=\"M 47.360085 72.119537 \nL 50.983462 59.912146 \nL 54.606838 48.314628 \nL 58.230215 37.78934 \nL 61.853592 28.755892 \nL 65.476968 21.574419 \nL 69.100345 16.531223 \nL 72.723722 13.827361 \nL 76.347098 13.570628 \nL 79.970475 15.771258 \nL 83.593851 20.341519 \nL 87.217228 27.09921 \nL 90.840605 35.774922 \nL 94.463981 46.022783 \nL 98.087358 57.434242 \nL 101.710735 69.554361 \nL 105.334111 81.899948 \nL 108.957488 93.978825 \nL 112.580864 105.309443 \nL 116.204241 115.440089 \nL 119.827618 123.966884 \nL 123.450994 130.549892 \nL 127.074371 134.926669 \nL 130.697748 136.922727 \nL 134.321124 136.45849 \nL 137.944501 133.552465 \nL 141.567877 128.320507 \nL 145.191254 120.971196 \nL 148.814631 111.797527 \nL 152.438007 101.165225 \nL 156.061384 89.498166 \nL 159.684761 77.26148 \nL 163.308137 64.943003 \nL 166.931514 53.033836 \nL 170.55489 42.008758 \nL 174.178267 32.307306 \nL 177.801644 24.316244 \nL 181.42502 18.354153 \nL 185.048397 14.65872 \nL 188.671774 13.377273 \nL 192.29515 14.560897 \nL 195.918527 18.162406 \nL 199.541903 24.038219 \nL 203.16528 31.954085 \nL 206.788657 41.594424 \nL 210.412033 52.574907 \nL 214.03541 64.457775 \nL 217.658787 76.769297 \nL 221.282163 89.018651 \n\" style=\"fill:none;stroke:#1f77b4;stroke-linecap:square;stroke-width:1.5;\"/>\n   </g>\n   <g id=\"line2d_127\">\n    <path clip-path=\"url(#pff743fb5e0)\" d=\"M 54.606838 21.734435 \nL 72.723722 68.053524 \nL 90.840605 120.952157 \nL 108.957488 131.795574 \nL 127.074371 90.614388 \nL 145.191254 35.270391 \nL 163.308137 16.646599 \nL 181.42502 51.865641 \nL 199.541903 108.547291 \n\" style=\"fill:none;stroke:#ff7f0e;stroke-dasharray:5.55,2.4;stroke-dashoffset:0;stroke-width:1.5;\"/>\n   </g>\n   <g id=\"line2d_128\">\n    <path clip-path=\"url(#pff743fb5e0)\" d=\"M 47.360085 72.119537 \nL 50.983462 59.912146 \nL 54.606838 48.314628 \nL 58.230215 37.78934 \nL 61.853592 28.755892 \nL 65.476968 21.574419 \nL 69.100345 16.531223 \nL 72.723722 13.827361 \nL 76.347098 13.570628 \nL 79.970475 15.771258 \nL 83.593851 20.341519 \nL 87.217228 27.09921 \nL 90.840605 35.774922 \nL 94.463981 46.022783 \nL 98.087358 57.434242 \nL 101.710735 69.554361 \nL 105.334111 81.899948 \nL 108.957488 93.978825 \nL 112.580864 105.309443 \nL 116.204241 115.440089 \nL 119.827618 123.966884 \nL 123.450994 130.549892 \nL 127.074371 134.926669 \nL 130.697748 136.922727 \nL 134.321124 136.45849 \nL 137.944501 133.552465 \nL 141.567877 128.320507 \nL 145.191254 120.971196 \nL 148.814631 111.797527 \nL 152.438007 101.165225 \nL 156.061384 89.498166 \nL 159.684761 77.26148 \nL 163.308137 64.943003 \nL 166.931514 53.033836 \nL 170.55489 42.008758 \nL 174.178267 32.307306 \nL 177.801644 24.316244 \nL 181.42502 18.354153 \nL 185.048397 14.65872 \nL 188.671774 13.377273 \nL 192.29515 14.560897 \nL 195.918527 18.162406 \nL 199.541903 24.038219 \nL 203.16528 31.954085 \nL 206.788657 41.594424 \nL 210.412033 52.574907 \nL 214.03541 64.457775 \nL 217.658787 76.769297 \nL 221.282163 89.018651 \nL 224.90554 100.717494 \n\" style=\"fill:none;stroke:#1f77b4;stroke-linecap:square;stroke-width:1.5;\"/>\n   </g>\n   <g id=\"line2d_129\">\n    <path clip-path=\"url(#pff743fb5e0)\" d=\"M 54.606838 21.734435 \nL 72.723722 68.053524 \nL 90.840605 120.952157 \nL 108.957488 131.795574 \nL 127.074371 90.614388 \nL 145.191254 35.270391 \nL 163.308137 16.646599 \nL 181.42502 51.865641 \nL 199.541903 108.547291 \n\" style=\"fill:none;stroke:#ff7f0e;stroke-dasharray:5.55,2.4;stroke-dashoffset:0;stroke-width:1.5;\"/>\n   </g>\n   <g id=\"line2d_130\">\n    <path clip-path=\"url(#pff743fb5e0)\" d=\"M 47.360085 72.119537 \nL 50.983462 59.912146 \nL 54.606838 48.314628 \nL 58.230215 37.78934 \nL 61.853592 28.755892 \nL 65.476968 21.574419 \nL 69.100345 16.531223 \nL 72.723722 13.827361 \nL 76.347098 13.570628 \nL 79.970475 15.771258 \nL 83.593851 20.341519 \nL 87.217228 27.09921 \nL 90.840605 35.774922 \nL 94.463981 46.022783 \nL 98.087358 57.434242 \nL 101.710735 69.554361 \nL 105.334111 81.899948 \nL 108.957488 93.978825 \nL 112.580864 105.309443 \nL 116.204241 115.440089 \nL 119.827618 123.966884 \nL 123.450994 130.549892 \nL 127.074371 134.926669 \nL 130.697748 136.922727 \nL 134.321124 136.45849 \nL 137.944501 133.552465 \nL 141.567877 128.320507 \nL 145.191254 120.971196 \nL 148.814631 111.797527 \nL 152.438007 101.165225 \nL 156.061384 89.498166 \nL 159.684761 77.26148 \nL 163.308137 64.943003 \nL 166.931514 53.033836 \nL 170.55489 42.008758 \nL 174.178267 32.307306 \nL 177.801644 24.316244 \nL 181.42502 18.354153 \nL 185.048397 14.65872 \nL 188.671774 13.377273 \nL 192.29515 14.560897 \nL 195.918527 18.162406 \nL 199.541903 24.038219 \nL 203.16528 31.954085 \nL 206.788657 41.594424 \nL 210.412033 52.574907 \nL 214.03541 64.457775 \nL 217.658787 76.769297 \nL 221.282163 89.018651 \nL 224.90554 100.717494 \n\" style=\"fill:none;stroke:#1f77b4;stroke-linecap:square;stroke-width:1.5;\"/>\n   </g>\n   <g id=\"line2d_131\">\n    <path clip-path=\"url(#pff743fb5e0)\" d=\"M 54.606838 21.734435 \nL 72.723722 68.053524 \nL 90.840605 120.952157 \nL 108.957488 131.795574 \nL 127.074371 90.614388 \nL 145.191254 35.270391 \nL 163.308137 16.646599 \nL 181.42502 51.865641 \nL 199.541903 108.547291 \nL 217.658787 134.578702 \n\" style=\"fill:none;stroke:#ff7f0e;stroke-dasharray:5.55,2.4;stroke-dashoffset:0;stroke-width:1.5;\"/>\n   </g>\n   <g id=\"patch_3\">\n    <path d=\"M 38.482813 143.1 \nL 38.482813 7.2 \n\" style=\"fill:none;stroke:#000000;stroke-linecap:square;stroke-linejoin:miter;stroke-width:0.8;\"/>\n   </g>\n   <g id=\"patch_4\">\n    <path d=\"M 233.782813 143.1 \nL 233.782813 7.2 \n\" style=\"fill:none;stroke:#000000;stroke-linecap:square;stroke-linejoin:miter;stroke-width:0.8;\"/>\n   </g>\n   <g id=\"patch_5\">\n    <path d=\"M 38.482813 143.1 \nL 233.782813 143.1 \n\" style=\"fill:none;stroke:#000000;stroke-linecap:square;stroke-linejoin:miter;stroke-width:0.8;\"/>\n   </g>\n   <g id=\"patch_6\">\n    <path d=\"M 38.482813 7.2 \nL 233.782813 7.2 \n\" style=\"fill:none;stroke:#000000;stroke-linecap:square;stroke-linejoin:miter;stroke-width:0.8;\"/>\n   </g>\n   <g id=\"legend_1\">\n    <g id=\"patch_7\">\n     <path d=\"M 177.95625 138.1 \nL 226.782813 138.1 \nQ 228.782813 138.1 228.782813 136.1 \nL 228.782813 107.74375 \nQ 228.782813 105.74375 226.782813 105.74375 \nL 177.95625 105.74375 \nQ 175.95625 105.74375 175.95625 107.74375 \nL 175.95625 136.1 \nQ 175.95625 138.1 177.95625 138.1 \nz\n\" style=\"fill:#ffffff;opacity:0.8;stroke:#cccccc;stroke-linejoin:miter;\"/>\n    </g>\n    <g id=\"line2d_132\">\n     <path d=\"M 179.95625 113.842187 \nL 199.95625 113.842187 \n\" style=\"fill:none;stroke:#1f77b4;stroke-linecap:square;stroke-width:1.5;\"/>\n    </g>\n    <g id=\"line2d_133\"/>\n    <g id=\"text_13\">\n     <!-- sin -->\n     <g transform=\"translate(207.95625 117.342187)scale(0.1 -0.1)\">\n      <defs>\n       <path d=\"M 2834 3397 \nL 2834 2853 \nQ 2591 2978 2328 3040 \nQ 2066 3103 1784 3103 \nQ 1356 3103 1142 2972 \nQ 928 2841 928 2578 \nQ 928 2378 1081 2264 \nQ 1234 2150 1697 2047 \nL 1894 2003 \nQ 2506 1872 2764 1633 \nQ 3022 1394 3022 966 \nQ 3022 478 2636 193 \nQ 2250 -91 1575 -91 \nQ 1294 -91 989 -36 \nQ 684 19 347 128 \nL 347 722 \nQ 666 556 975 473 \nQ 1284 391 1588 391 \nQ 1994 391 2212 530 \nQ 2431 669 2431 922 \nQ 2431 1156 2273 1281 \nQ 2116 1406 1581 1522 \nL 1381 1569 \nQ 847 1681 609 1914 \nQ 372 2147 372 2553 \nQ 372 3047 722 3315 \nQ 1072 3584 1716 3584 \nQ 2034 3584 2315 3537 \nQ 2597 3491 2834 3397 \nz\n\" id=\"DejaVuSans-73\" transform=\"scale(0.015625)\"/>\n       <path d=\"M 603 3500 \nL 1178 3500 \nL 1178 0 \nL 603 0 \nL 603 3500 \nz\nM 603 4863 \nL 1178 4863 \nL 1178 4134 \nL 603 4134 \nL 603 4863 \nz\n\" id=\"DejaVuSans-69\" transform=\"scale(0.015625)\"/>\n       <path d=\"M 3513 2113 \nL 3513 0 \nL 2938 0 \nL 2938 2094 \nQ 2938 2591 2744 2837 \nQ 2550 3084 2163 3084 \nQ 1697 3084 1428 2787 \nQ 1159 2491 1159 1978 \nL 1159 0 \nL 581 0 \nL 581 3500 \nL 1159 3500 \nL 1159 2956 \nQ 1366 3272 1645 3428 \nQ 1925 3584 2291 3584 \nQ 2894 3584 3203 3211 \nQ 3513 2838 3513 2113 \nz\n\" id=\"DejaVuSans-6e\" transform=\"scale(0.015625)\"/>\n      </defs>\n      <use xlink:href=\"#DejaVuSans-73\"/>\n      <use x=\"52.099609\" xlink:href=\"#DejaVuSans-69\"/>\n      <use x=\"79.882812\" xlink:href=\"#DejaVuSans-6e\"/>\n     </g>\n    </g>\n    <g id=\"line2d_134\">\n     <path d=\"M 179.95625 128.520312 \nL 199.95625 128.520312 \n\" style=\"fill:none;stroke:#ff7f0e;stroke-dasharray:5.55,2.4;stroke-dashoffset:0;stroke-width:1.5;\"/>\n    </g>\n    <g id=\"line2d_135\"/>\n    <g id=\"text_14\">\n     <!-- cos -->\n     <g transform=\"translate(207.95625 132.020312)scale(0.1 -0.1)\">\n      <defs>\n       <path d=\"M 3122 3366 \nL 3122 2828 \nQ 2878 2963 2633 3030 \nQ 2388 3097 2138 3097 \nQ 1578 3097 1268 2742 \nQ 959 2388 959 1747 \nQ 959 1106 1268 751 \nQ 1578 397 2138 397 \nQ 2388 397 2633 464 \nQ 2878 531 3122 666 \nL 3122 134 \nQ 2881 22 2623 -34 \nQ 2366 -91 2075 -91 \nQ 1284 -91 818 406 \nQ 353 903 353 1747 \nQ 353 2603 823 3093 \nQ 1294 3584 2113 3584 \nQ 2378 3584 2631 3529 \nQ 2884 3475 3122 3366 \nz\n\" id=\"DejaVuSans-63\" transform=\"scale(0.015625)\"/>\n       <path d=\"M 1959 3097 \nQ 1497 3097 1228 2736 \nQ 959 2375 959 1747 \nQ 959 1119 1226 758 \nQ 1494 397 1959 397 \nQ 2419 397 2687 759 \nQ 2956 1122 2956 1747 \nQ 2956 2369 2687 2733 \nQ 2419 3097 1959 3097 \nz\nM 1959 3584 \nQ 2709 3584 3137 3096 \nQ 3566 2609 3566 1747 \nQ 3566 888 3137 398 \nQ 2709 -91 1959 -91 \nQ 1206 -91 779 398 \nQ 353 888 353 1747 \nQ 353 2609 779 3096 \nQ 1206 3584 1959 3584 \nz\n\" id=\"DejaVuSans-6f\" transform=\"scale(0.015625)\"/>\n      </defs>\n      <use xlink:href=\"#DejaVuSans-63\"/>\n      <use x=\"54.980469\" xlink:href=\"#DejaVuSans-6f\"/>\n      <use x=\"116.162109\" xlink:href=\"#DejaVuSans-73\"/>\n     </g>\n    </g>\n   </g>\n  </g>\n </g>\n <defs>\n  <clipPath id=\"pff743fb5e0\">\n   <rect height=\"135.9\" width=\"195.3\" x=\"38.482813\" y=\"7.2\"/>\n  </clipPath>\n </defs>\n</svg>\n",
      "text/plain": [
       "<Figure size 252x180 with 1 Axes>"
      ]
     },
     "metadata": {
      "needs_background": "light"
     },
     "output_type": "display_data"
    }
   ],
   "source": [
    "board = d2l.ProgressBoard('x')\n",
    "for x in np.arange(0, 10, 0.1):\n",
    "    board.draw(x, np.sin(x), 'sin', every_n=2)\n",
    "    board.draw(x, np.cos(x), 'cos', every_n=10)"
   ]
  },
  {
   "attachments": {},
   "cell_type": "markdown",
   "metadata": {},
   "source": [
    "#### 3.2.2. Models"
   ]
  },
  {
   "cell_type": "code",
   "execution_count": 31,
   "metadata": {},
   "outputs": [],
   "source": [
    "class Module(tf.keras.Model, d2l.HyperParameters):  #@save\n",
    "    def __init__(self, plot_train_per_epoch=2, plot_valid_per_epoch=1):\n",
    "        super().__init__()\n",
    "        self.save_hyperparameters()\n",
    "        self.board = ProgressBoard()\n",
    "        self.training = None\n",
    "\n",
    "    def loss(self, y_hat, y):\n",
    "        raise NotImplementedError\n",
    "\n",
    "    def forward(self, X):\n",
    "        assert hasattr(self, 'net'), 'Neural network is defined'\n",
    "        return self.net(X)\n",
    "\n",
    "    def call(self, X, *args, **kwargs):\n",
    "        if kwargs and \"training\" in kwargs:\n",
    "            self.training = kwargs['training']\n",
    "        return self.forward(X, *args)\n",
    "\n",
    "    def plot(self, key, value, train):\n",
    "        \"\"\"Plot a point in animation.\"\"\"\n",
    "        assert hasattr(self, 'trainer'), 'Trainer is not inited'\n",
    "        self.board.xlabel = 'epoch'\n",
    "        if train:\n",
    "            x = self.trainer.train_batch_idx / \\\n",
    "                self.trainer.num_train_batches\n",
    "            n = self.trainer.num_train_batches / \\\n",
    "                self.plot_train_per_epoch\n",
    "        else:\n",
    "            x = self.trainer.epoch + 1\n",
    "            n = self.trainer.num_val_batches / \\\n",
    "                self.plot_valid_per_epoch\n",
    "        self.board.draw(x, value.numpy(), (\n",
    "            'train_' if train else 'val_') + key, every_n=int(n))\n",
    "    def training_step(self, batch):\n",
    "        l = self.loss(self(*batch[:-1]), batch[-1])\n",
    "        self.plot('loss', l, train=True)\n",
    "        return l\n",
    "\n",
    "    def validation_step(self, batch):\n",
    "        l = self.loss(self(*batch[:-1]), batch[-1])\n",
    "        self.plot('loss', l, train=False)\n",
    "\n",
    "    def configure_optimizers(self):\n",
    "        raise NotImplementedError"
   ]
  },
  {
   "attachments": {},
   "cell_type": "markdown",
   "metadata": {},
   "source": [
    "#### 3.2.3 Data"
   ]
  },
  {
   "cell_type": "code",
   "execution_count": 32,
   "metadata": {},
   "outputs": [],
   "source": [
    "class DataModule(d2l.HyperParameters):  #@save\n",
    "    def __init__(self, root='../data'):\n",
    "        self.save_hyperparameters()\n",
    "\n",
    "    def get_dataloader(self, train):\n",
    "        raise NotImplementedError\n",
    "\n",
    "    def train_dataloader(self):\n",
    "        return self.get_dataloader(train=True)\n",
    "\n",
    "    def val_dataloader(self):\n",
    "        return self.get_dataloader(train=False)"
   ]
  },
  {
   "attachments": {},
   "cell_type": "markdown",
   "metadata": {},
   "source": [
    "#### 3.2.4. Training"
   ]
  },
  {
   "cell_type": "code",
   "execution_count": 33,
   "metadata": {},
   "outputs": [],
   "source": [
    "class Trainer(d2l.HyperParameters):  #@save\n",
    "    def __init__(self, max_epochs, num_gpus=0, gradient_clip_val=0):\n",
    "        self.save_hyperparameters()\n",
    "        assert num_gpus == 0, 'No GPU support yet'\n",
    "\n",
    "    def prepare_data(self, data):\n",
    "        self.train_dataloader = data.train_dataloader()\n",
    "        self.val_dataloader = data.val_dataloader()\n",
    "        self.num_train_batches = len(self.train_dataloader)\n",
    "        self.num_val_batches = (len(self.val_dataloader)\n",
    "                                if self.val_dataloader is not None else 0)\n",
    "\n",
    "    def prepare_model(self, model):\n",
    "        model.trainer = self\n",
    "        model.board.xlim = [0, self.max_epochs]\n",
    "        self.model = model\n",
    "\n",
    "    def fit(self, model, data):\n",
    "        self.prepare_data(data)\n",
    "        self.prepare_model(model)\n",
    "        self.optim = model.configure_optimizers()\n",
    "        self.epoch = 0\n",
    "        self.train_batch_idx = 0\n",
    "        self.val_batch_idx = 0\n",
    "        for self.epoch in range(self.max_epochs):\n",
    "            self.fit_epoch()\n",
    "\n",
    "    def fit_epoch(self):\n",
    "        raise NotImplementedError"
   ]
  },
  {
   "attachments": {},
   "cell_type": "markdown",
   "metadata": {},
   "source": [
    "## 3.3. Synthetic Regression data"
   ]
  },
  {
   "cell_type": "code",
   "execution_count": 34,
   "metadata": {},
   "outputs": [],
   "source": [
    "%matplotlib inline\n",
    "import random\n",
    "import tensorflow as tf\n",
    "from d2l import tensorflow as d2l"
   ]
  },
  {
   "cell_type": "code",
   "execution_count": 36,
   "metadata": {},
   "outputs": [],
   "source": [
    "class SyntheticRegressionData(d2l.DataModule):  #@save\n",
    "    def __init__(self, w, b, noise=0.01, num_train=1000, num_val=1000,\n",
    "                 batch_size=32):\n",
    "        super().__init__()\n",
    "        self.save_hyperparameters()\n",
    "        n = num_train + num_val\n",
    "        self.X = tf.random.normal((n, w.shape[0]))\n",
    "        noise = tf.random.normal((n, 1)) * noise\n",
    "        self.y = tf.matmul(self.X, tf.reshape(w, (-1, 1))) + b + noise"
   ]
  },
  {
   "cell_type": "code",
   "execution_count": 37,
   "metadata": {},
   "outputs": [],
   "source": [
    "data = SyntheticRegressionData(w=tf.constant([2, -3.4]), b = 4.2)"
   ]
  },
  {
   "cell_type": "code",
   "execution_count": 38,
   "metadata": {},
   "outputs": [
    {
     "name": "stdout",
     "output_type": "stream",
     "text": [
      "features: tf.Tensor([1.3008757  0.21848637], shape=(2,), dtype=float32) \n",
      "label: tf.Tensor([6.071995], shape=(1,), dtype=float32)\n"
     ]
    }
   ],
   "source": [
    "print('features:', data.X[0],'\\nlabel:', data.y[0])"
   ]
  },
  {
   "attachments": {},
   "cell_type": "markdown",
   "metadata": {},
   "source": [
    "#### 3.3.2. Reading the dataset"
   ]
  },
  {
   "cell_type": "code",
   "execution_count": 41,
   "metadata": {},
   "outputs": [],
   "source": [
    "@d2l.add_to_class(SyntheticRegressionData)\n",
    "def get_dataloader(self, train):\n",
    "    if train:\n",
    "        indices = list(range(0, self.num_train))\n",
    "        # The examples are read in random order\n",
    "        random.shuffle(indices)\n",
    "    else:\n",
    "        indices = list(range(self.num_train, self.num_train+self.num_val))\n",
    "    for i in range(0, len(indices), self.batch_size):\n",
    "        j = tf.constant(indices[i : i+self.batch_size])\n",
    "        yield tf.gather(self.X, j), tf.gather(self.y, j)"
   ]
  },
  {
   "cell_type": "code",
   "execution_count": 48,
   "metadata": {},
   "outputs": [
    {
     "name": "stdout",
     "output_type": "stream",
     "text": [
      "X shape: (32, 2) \n",
      "y shape: (32, 1)\n"
     ]
    }
   ],
   "source": [
    "X, y = next(iter(data.train_dataloader()))\n",
    "print('X shape:', X.shape, '\\ny shape:', y.shape)"
   ]
  },
  {
   "attachments": {},
   "cell_type": "markdown",
   "metadata": {},
   "source": [
    "#### 3.3.3. Concise Implementation of the Data Loader"
   ]
  },
  {
   "cell_type": "code",
   "execution_count": 49,
   "metadata": {},
   "outputs": [],
   "source": [
    "@d2l.add_to_class(d2l.DataModule)  #@save\n",
    "def get_tensorloader(self, tensors, train, indices=slice(0, None)):\n",
    "    tensors = tuple(a[indices] for a in tensors)\n",
    "    shuffle_buffer = tensors[0].shape[0] if train else 1\n",
    "    return tf.data.Dataset.from_tensor_slices(tensors).shuffle(\n",
    "        buffer_size=shuffle_buffer).batch(self.batch_size)\n",
    "\n",
    "@d2l.add_to_class(SyntheticRegressionData)  #@save\n",
    "def get_dataloader(self, train):\n",
    "    i = slice(0, self.num_train) if train else slice(self.num_train, None)\n",
    "    return self.get_tensorloader((self.X, self.y), train, i)"
   ]
  },
  {
   "cell_type": "code",
   "execution_count": 50,
   "metadata": {},
   "outputs": [
    {
     "name": "stdout",
     "output_type": "stream",
     "text": [
      "X shape: (32, 2) \n",
      "y shape: (32, 1)\n"
     ]
    }
   ],
   "source": [
    "X, y = next(iter(data.train_dataloader()))\n",
    "print('X shape:', X.shape, '\\ny shape:', y.shape)"
   ]
  },
  {
   "cell_type": "code",
   "execution_count": 52,
   "metadata": {},
   "outputs": [
    {
     "data": {
      "text/plain": [
       "32"
      ]
     },
     "execution_count": 52,
     "metadata": {},
     "output_type": "execute_result"
    }
   ],
   "source": [
    "len(data.train_dataloader())"
   ]
  },
  {
   "cell_type": "code",
   "execution_count": null,
   "metadata": {},
   "outputs": [],
   "source": []
  },
  {
   "attachments": {},
   "cell_type": "markdown",
   "metadata": {},
   "source": [
    "## 3.4. Linear regression from scratch"
   ]
  },
  {
   "cell_type": "markdown",
   "metadata": {},
   "source": []
  }
 ],
 "metadata": {
  "kernelspec": {
<<<<<<< HEAD
   "display_name": "base",
=======
   "display_name": "Python 3",
>>>>>>> 7d8ba945cbef8cb11b2e9301add9439272bd1d8f
   "language": "python",
   "name": "python3"
  },
  "language_info": {
<<<<<<< HEAD
   "name": "python",
   "version": "3.9.13 (main, Aug 25 2022, 23:51:50) [MSC v.1916 64 bit (AMD64)]"
=======
   "codemirror_mode": {
    "name": "ipython",
    "version": 3
   },
   "file_extension": ".py",
   "mimetype": "text/x-python",
   "name": "python",
   "nbconvert_exporter": "python",
   "pygments_lexer": "ipython3",
   "version": "3.9.7"
>>>>>>> 7d8ba945cbef8cb11b2e9301add9439272bd1d8f
  },
  "orig_nbformat": 4,
  "vscode": {
   "interpreter": {
<<<<<<< HEAD
    "hash": "4642e6d6e1f9834c1ef563fd4f9483a5c500d71c70b71b52272f728de04ef430"
=======
    "hash": "43b783ce8bc933691c7edf425a422845b54cd04a76973ff9f2e97ea3d8e023c5"
>>>>>>> 7d8ba945cbef8cb11b2e9301add9439272bd1d8f
   }
  }
 },
 "nbformat": 4,
 "nbformat_minor": 2
}

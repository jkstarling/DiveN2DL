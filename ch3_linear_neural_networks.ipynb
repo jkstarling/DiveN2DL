{
 "cells": [
  {
   "attachments": {},
   "cell_type": "markdown",
   "metadata": {},
   "source": [
    "### 3.1. Linear regression\n",
    "\n",
    "#### 3.1.1. Basics"
   ]
  },
  {
   "attachments": {},
   "cell_type": "markdown",
   "metadata": {},
   "source": [
    "$\\hat y = w_1 x_1 + \\ldots + w_d x_d + b$\n",
    "\n",
    "$\\hat y = \\textbf w^T \\textbf x + b$\n",
    "\n",
    "w is (2,1), x is (2,1) (only one observation)\n",
    "\n",
    "It is often better to represent in matrix/vector form. \n",
    "\n",
    "$\\hat {\\textbf y} = \\textbf {X}^T\\textbf{w} + b$\n",
    "\n",
    "$\\hat {\\textbf y} \\in \\mathbb{R}^{n\\times 1}, \\mathbf X \\in \\mathbb{R}^{n\\times d}, \\textbf w \\in \\mathbb{R}^{d\\times 1}, b \\in \\mathbb{R}^{1\\times 1}$, and $n$ is the number of observations, while $d$ is the number of features"
   ]
  },
  {
   "attachments": {},
   "cell_type": "markdown",
   "metadata": {},
   "source": [
    "#### 3.1.1.2. Loss function"
   ]
  },
  {
   "attachments": {},
   "cell_type": "markdown",
   "metadata": {},
   "source": [
    "$l^{(i)}(\\textbf w, b) = \\frac{1}{2}\\left( \\hat y ^{(i)} - y^{(i)}  \\right)^2$\n",
    "\n",
    "$L(\\textbf w, b) = \\frac{1}{n} \\sum_{i=1}^n l^{(i)}(\\textbf w, b) = \\frac{1}{n} \\sum_{i=1}^n  \\frac{1}{2}\\left( \\textbf w^T \\textbf x^{(i)} + b - y^{(i)}  \\right)^2$\n",
    "\n",
    "When training the model, we seek:\n",
    "\n",
    "$\\textbf w^*, b^* = \\argmin_{\\textbf w, b} L(\\textbf w, b)$"
   ]
  },
  {
   "attachments": {},
   "cell_type": "markdown",
   "metadata": {},
   "source": [
    "we can solve this by taking the bias into the parameter $\\textbf w$ by appending a column of ones in the design matrix $\\textbf W$. Our problem then is to minimize $||\\textbf~y~-~\\textbf{Xw}||^2$... this leads to solving: \n",
    "\n",
    "$$\\textbf w^* = (\\textbf{X}^T\\textbf{X})^{-1} \\textbf{X}^T \\textbf{y}$$"
   ]
  },
  {
   "cell_type": "code",
   "execution_count": null,
   "metadata": {},
   "outputs": [],
   "source": []
  },
  {
   "cell_type": "code",
   "execution_count": null,
   "metadata": {},
   "outputs": [],
   "source": []
  }
 ],
 "metadata": {
  "kernelspec": {
   "display_name": "base",
   "language": "python",
   "name": "python3"
  },
  "language_info": {
   "name": "python",
   "version": "3.9.13 (main, Aug 25 2022, 23:51:50) [MSC v.1916 64 bit (AMD64)]"
  },
  "orig_nbformat": 4,
  "vscode": {
   "interpreter": {
    "hash": "4642e6d6e1f9834c1ef563fd4f9483a5c500d71c70b71b52272f728de04ef430"
   }
  }
 },
 "nbformat": 4,
 "nbformat_minor": 2
}
